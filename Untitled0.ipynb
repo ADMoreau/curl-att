{
  "nbformat": 4,
  "nbformat_minor": 0,
  "metadata": {
    "colab": {
      "name": "Untitled0.ipynb",
      "provenance": [],
      "machine_shape": "hm",
      "authorship_tag": "ABX9TyN5bx8MxxuWUTDMMLL6TUaW",
      "include_colab_link": true
    },
    "kernelspec": {
      "name": "python3",
      "display_name": "Python 3"
    },
    "accelerator": "GPU"
  },
  "cells": [
    {
      "cell_type": "markdown",
      "metadata": {
        "id": "view-in-github",
        "colab_type": "text"
      },
      "source": [
        "<a href=\"https://colab.research.google.com/github/ADMoreau/curl-att/blob/master/Untitled0.ipynb\" target=\"_parent\"><img src=\"https://colab.research.google.com/assets/colab-badge.svg\" alt=\"Open In Colab\"/></a>"
      ]
    },
    {
      "cell_type": "code",
      "metadata": {
        "id": "NT-CTO8eJb7m",
        "colab_type": "code",
        "colab": {}
      },
      "source": [
        "!rm -r /content/curl-att"
      ],
      "execution_count": 0,
      "outputs": []
    },
    {
      "cell_type": "code",
      "metadata": {
        "id": "3d8P8MVXsQpS",
        "colab_type": "code",
        "outputId": "20342dd6-fcb6-42de-d8c5-730cdbdf84eb",
        "colab": {
          "base_uri": "https://localhost:8080/",
          "height": 1000
        }
      },
      "source": [
        "!apt-get install python-opengl -y\n",
        "!apt install xvfb -y\n",
        "!apt-get install x11-utils"
      ],
      "execution_count": 1,
      "outputs": [
        {
          "output_type": "stream",
          "text": [
            "Reading package lists... Done\n",
            "Building dependency tree       \n",
            "Reading state information... Done\n",
            "Suggested packages:\n",
            "  libgle3\n",
            "The following NEW packages will be installed:\n",
            "  python-opengl\n",
            "0 upgraded, 1 newly installed, 0 to remove and 25 not upgraded.\n",
            "Need to get 496 kB of archives.\n",
            "After this operation, 5,416 kB of additional disk space will be used.\n",
            "Get:1 http://archive.ubuntu.com/ubuntu bionic/universe amd64 python-opengl all 3.1.0+dfsg-1 [496 kB]\n",
            "Fetched 496 kB in 2s (263 kB/s)\n",
            "Selecting previously unselected package python-opengl.\n",
            "(Reading database ... 144568 files and directories currently installed.)\n",
            "Preparing to unpack .../python-opengl_3.1.0+dfsg-1_all.deb ...\n",
            "Unpacking python-opengl (3.1.0+dfsg-1) ...\n",
            "Setting up python-opengl (3.1.0+dfsg-1) ...\n",
            "Reading package lists... Done\n",
            "Building dependency tree       \n",
            "Reading state information... Done\n",
            "The following NEW packages will be installed:\n",
            "  xvfb\n",
            "0 upgraded, 1 newly installed, 0 to remove and 25 not upgraded.\n",
            "Need to get 784 kB of archives.\n",
            "After this operation, 2,266 kB of additional disk space will be used.\n",
            "Get:1 http://archive.ubuntu.com/ubuntu bionic-updates/universe amd64 xvfb amd64 2:1.19.6-1ubuntu4.4 [784 kB]\n",
            "Fetched 784 kB in 2s (383 kB/s)\n",
            "Selecting previously unselected package xvfb.\n",
            "(Reading database ... 146923 files and directories currently installed.)\n",
            "Preparing to unpack .../xvfb_2%3a1.19.6-1ubuntu4.4_amd64.deb ...\n",
            "Unpacking xvfb (2:1.19.6-1ubuntu4.4) ...\n",
            "Setting up xvfb (2:1.19.6-1ubuntu4.4) ...\n",
            "Processing triggers for man-db (2.8.3-2ubuntu0.1) ...\n",
            "Reading package lists... Done\n",
            "Building dependency tree       \n",
            "Reading state information... Done\n",
            "The following additional packages will be installed:\n",
            "  libxxf86dga1\n",
            "Suggested packages:\n",
            "  mesa-utils\n",
            "The following NEW packages will be installed:\n",
            "  libxxf86dga1 x11-utils\n",
            "0 upgraded, 2 newly installed, 0 to remove and 25 not upgraded.\n",
            "Need to get 209 kB of archives.\n",
            "After this operation, 711 kB of additional disk space will be used.\n",
            "Get:1 http://archive.ubuntu.com/ubuntu bionic/main amd64 libxxf86dga1 amd64 2:1.1.4-1 [13.7 kB]\n",
            "Get:2 http://archive.ubuntu.com/ubuntu bionic/main amd64 x11-utils amd64 7.7+3build1 [196 kB]\n",
            "Fetched 209 kB in 2s (106 kB/s)\n",
            "Selecting previously unselected package libxxf86dga1:amd64.\n",
            "(Reading database ... 146930 files and directories currently installed.)\n",
            "Preparing to unpack .../libxxf86dga1_2%3a1.1.4-1_amd64.deb ...\n",
            "Unpacking libxxf86dga1:amd64 (2:1.1.4-1) ...\n",
            "Selecting previously unselected package x11-utils.\n",
            "Preparing to unpack .../x11-utils_7.7+3build1_amd64.deb ...\n",
            "Unpacking x11-utils (7.7+3build1) ...\n",
            "Setting up libxxf86dga1:amd64 (2:1.1.4-1) ...\n",
            "Setting up x11-utils (7.7+3build1) ...\n",
            "Processing triggers for man-db (2.8.3-2ubuntu0.1) ...\n",
            "Processing triggers for libc-bin (2.27-3ubuntu1) ...\n",
            "/sbin/ldconfig.real: /usr/local/lib/python3.6/dist-packages/ideep4py/lib/libmkldnn.so.0 is not a symbolic link\n",
            "\n"
          ],
          "name": "stdout"
        }
      ]
    },
    {
      "cell_type": "code",
      "metadata": {
        "id": "QG5n1gVeIx87",
        "colab_type": "code",
        "outputId": "dce4e6ed-fc84-4146-a785-2abe426fe03b",
        "colab": {
          "base_uri": "https://localhost:8080/",
          "height": 119
        }
      },
      "source": [
        "!git clone https://github.com/ADMoreau/curl-att.git"
      ],
      "execution_count": 2,
      "outputs": [
        {
          "output_type": "stream",
          "text": [
            "Cloning into 'curl-att'...\n",
            "remote: Enumerating objects: 73, done.\u001b[K\n",
            "remote: Counting objects: 100% (73/73), done.\u001b[K\n",
            "remote: Compressing objects: 100% (50/50), done.\u001b[K\n",
            "remote: Total 73 (delta 44), reused 44 (delta 22), pack-reused 0\u001b[K\n",
            "Unpacking objects: 100% (73/73), done.\n"
          ],
          "name": "stdout"
        }
      ]
    },
    {
      "cell_type": "code",
      "metadata": {
        "id": "9bGQV4dtAo35",
        "colab_type": "code",
        "outputId": "0d6315ce-822a-486d-d37f-c6eb6e48d2c9",
        "colab": {
          "base_uri": "https://localhost:8080/",
          "height": 1000
        }
      },
      "source": [
        "!sudo pip install -r /content/curl-att/requirements.txt"
      ],
      "execution_count": 3,
      "outputs": [
        {
          "output_type": "stream",
          "text": [
            "Requirement already satisfied: gym in /usr/local/lib/python3.6/dist-packages (from -r /content/curl-att/requirements.txt (line 1)) (0.17.1)\n",
            "Requirement already satisfied: torch in /usr/local/lib/python3.6/dist-packages (from -r /content/curl-att/requirements.txt (line 2)) (1.4.0)\n",
            "Requirement already satisfied: torchvision in /usr/local/lib/python3.6/dist-packages (from -r /content/curl-att/requirements.txt (line 3)) (0.5.0)\n",
            "Requirement already satisfied: absl-py in /usr/local/lib/python3.6/dist-packages (from -r /content/curl-att/requirements.txt (line 5)) (0.9.0)\n",
            "Requirement already satisfied: pyparsing in /usr/local/lib/python3.6/dist-packages (from -r /content/curl-att/requirements.txt (line 6)) (2.4.7)\n",
            "Requirement already satisfied: pillow in /usr/local/lib/python3.6/dist-packages (from -r /content/curl-att/requirements.txt (line 7)) (7.0.0)\n",
            "Requirement already satisfied: termcolor in /usr/local/lib/python3.6/dist-packages (from -r /content/curl-att/requirements.txt (line 8)) (1.1.0)\n",
            "Collecting dm_control\n",
            "\u001b[?25l  Downloading https://files.pythonhosted.org/packages/50/5e/19f8530aa8f04f3576c8e37f0ed8a82e2a67b13cc4844725479cceafe1e9/dm_control-0.0.300771433-py3-none-any.whl (6.1MB)\n",
            "\u001b[K     |████████████████████████████████| 6.1MB 2.5MB/s \n",
            "\u001b[?25hCollecting tb-nightly\n",
            "\u001b[?25l  Downloading https://files.pythonhosted.org/packages/f0/b6/77d85ff819d3f79a0d7603dddcb81ce3ab3fdf6913a469eeb9b20fe39743/tb_nightly-2.3.0a20200423-py3-none-any.whl (3.0MB)\n",
            "\u001b[K     |████████████████████████████████| 3.0MB 46.9MB/s \n",
            "\u001b[?25hRequirement already satisfied: imageio in /usr/local/lib/python3.6/dist-packages (from -r /content/curl-att/requirements.txt (line 11)) (2.4.1)\n",
            "Collecting imageio-ffmpeg\n",
            "\u001b[?25l  Downloading https://files.pythonhosted.org/packages/0a/45/2472071095310b3e92010c051cbd2e3c655247ad9090851a86b8bfdcfbc5/imageio_ffmpeg-0.4.1-py3-none-manylinux2010_x86_64.whl (22.2MB)\n",
            "\u001b[K     |████████████████████████████████| 22.2MB 1.2MB/s \n",
            "\u001b[?25hRequirement already satisfied: scikit-image in /usr/local/lib/python3.6/dist-packages (from -r /content/curl-att/requirements.txt (line 14)) (0.16.2)\n",
            "Collecting pyvirtualdisplay\n",
            "  Downloading https://files.pythonhosted.org/packages/69/ec/8221a07850d69fa3c57c02e526edd23d18c7c05d58ed103e3b19172757c1/PyVirtualDisplay-0.2.5-py2.py3-none-any.whl\n",
            "Collecting piglet\n",
            "  Downloading https://files.pythonhosted.org/packages/11/56/6840e5f45626dc7eb7cd5dff57d11880b3113723b3b7b1fb1fa537855b75/piglet-1.0.0-py2.py3-none-any.whl\n",
            "Collecting dm_env\n",
            "  Downloading https://files.pythonhosted.org/packages/91/9a/52419cf918d62768a53165d349434cd8b1a0bb71127c3b71d3b019dbffcc/dm_env-1.2-py3-none-any.whl\n",
            "Requirement already satisfied: opencv-python in /usr/local/lib/python3.6/dist-packages (from -r /content/curl-att/requirements.txt (line 18)) (4.1.2.30)\n",
            "Requirement already satisfied: numpy>=1.10.4 in /usr/local/lib/python3.6/dist-packages (from gym->-r /content/curl-att/requirements.txt (line 1)) (1.18.2)\n",
            "Requirement already satisfied: pyglet<=1.5.0,>=1.4.0 in /usr/local/lib/python3.6/dist-packages (from gym->-r /content/curl-att/requirements.txt (line 1)) (1.5.0)\n",
            "Requirement already satisfied: scipy in /usr/local/lib/python3.6/dist-packages (from gym->-r /content/curl-att/requirements.txt (line 1)) (1.4.1)\n",
            "Requirement already satisfied: six in /usr/local/lib/python3.6/dist-packages (from gym->-r /content/curl-att/requirements.txt (line 1)) (1.12.0)\n",
            "Requirement already satisfied: cloudpickle<1.4.0,>=1.2.0 in /usr/local/lib/python3.6/dist-packages (from gym->-r /content/curl-att/requirements.txt (line 1)) (1.3.0)\n",
            "Collecting glfw\n",
            "\u001b[?25l  Downloading https://files.pythonhosted.org/packages/98/0d/aff94f4258dd21556121802e0274a6b92bf5e925b37898abb961b8924025/glfw-1.11.0-py2.py27.py3.py30.py31.py32.py33.py34.py35.py36.py37.py38-none-manylinux2014_x86_64.whl (205kB)\n",
            "\u001b[K     |████████████████████████████████| 215kB 54.5MB/s \n",
            "\u001b[?25hRequirement already satisfied: pyopengl>=3.1.4 in /usr/local/lib/python3.6/dist-packages (from dm_control->-r /content/curl-att/requirements.txt (line 9)) (3.1.5)\n",
            "Collecting dm-tree!=0.1.2\n",
            "\u001b[?25l  Downloading https://files.pythonhosted.org/packages/ee/47/948602fe82595056eb7f14b5005ee525c62a73218ffffe2aabb6b9e3ed42/dm_tree-0.1.4-cp36-cp36m-manylinux1_x86_64.whl (293kB)\n",
            "\u001b[K     |████████████████████████████████| 296kB 64.4MB/s \n",
            "\u001b[?25hRequirement already satisfied: setuptools in /usr/local/lib/python3.6/dist-packages (from dm_control->-r /content/curl-att/requirements.txt (line 9)) (46.1.3)\n",
            "Requirement already satisfied: lxml in /usr/local/lib/python3.6/dist-packages (from dm_control->-r /content/curl-att/requirements.txt (line 9)) (4.2.6)\n",
            "Requirement already satisfied: future in /usr/local/lib/python3.6/dist-packages (from dm_control->-r /content/curl-att/requirements.txt (line 9)) (0.16.0)\n",
            "Requirement already satisfied: google-auth-oauthlib<0.5,>=0.4.1 in /usr/local/lib/python3.6/dist-packages (from tb-nightly->-r /content/curl-att/requirements.txt (line 10)) (0.4.1)\n",
            "Requirement already satisfied: markdown>=2.6.8 in /usr/local/lib/python3.6/dist-packages (from tb-nightly->-r /content/curl-att/requirements.txt (line 10)) (3.2.1)\n",
            "Requirement already satisfied: grpcio>=1.24.3 in /usr/local/lib/python3.6/dist-packages (from tb-nightly->-r /content/curl-att/requirements.txt (line 10)) (1.28.1)\n",
            "Requirement already satisfied: protobuf>=3.6.0 in /usr/local/lib/python3.6/dist-packages (from tb-nightly->-r /content/curl-att/requirements.txt (line 10)) (3.10.0)\n",
            "Requirement already satisfied: requests<3,>=2.21.0 in /usr/local/lib/python3.6/dist-packages (from tb-nightly->-r /content/curl-att/requirements.txt (line 10)) (2.21.0)\n",
            "Requirement already satisfied: google-auth<2,>=1.6.3 in /usr/local/lib/python3.6/dist-packages (from tb-nightly->-r /content/curl-att/requirements.txt (line 10)) (1.7.2)\n",
            "Requirement already satisfied: werkzeug>=0.11.15 in /usr/local/lib/python3.6/dist-packages (from tb-nightly->-r /content/curl-att/requirements.txt (line 10)) (1.0.1)\n",
            "Requirement already satisfied: wheel>=0.26; python_version >= \"3\" in /usr/local/lib/python3.6/dist-packages (from tb-nightly->-r /content/curl-att/requirements.txt (line 10)) (0.34.2)\n",
            "Requirement already satisfied: tensorboard-plugin-wit>=1.6.0 in /usr/local/lib/python3.6/dist-packages (from tb-nightly->-r /content/curl-att/requirements.txt (line 10)) (1.6.0.post3)\n",
            "Requirement already satisfied: PyWavelets>=0.4.0 in /usr/local/lib/python3.6/dist-packages (from scikit-image->-r /content/curl-att/requirements.txt (line 14)) (1.1.1)\n",
            "Requirement already satisfied: networkx>=2.0 in /usr/local/lib/python3.6/dist-packages (from scikit-image->-r /content/curl-att/requirements.txt (line 14)) (2.4)\n",
            "Requirement already satisfied: matplotlib!=3.0.0,>=2.0.0 in /usr/local/lib/python3.6/dist-packages (from scikit-image->-r /content/curl-att/requirements.txt (line 14)) (3.2.1)\n",
            "Collecting EasyProcess\n",
            "  Downloading https://files.pythonhosted.org/packages/32/8f/88d636f1da22a3c573259e44cfefb46a117d3f9432e2c98b1ab4a21372ad/EasyProcess-0.2.10-py2.py3-none-any.whl\n",
            "Collecting piglet-templates\n",
            "\u001b[?25l  Downloading https://files.pythonhosted.org/packages/d0/dc/d628dcdf0b38b8f230e9c2309bfa370d2e3fb95e9e9c260213d10fde91ac/piglet_templates-1.0.0-py3-none-any.whl (63kB)\n",
            "\u001b[K     |████████████████████████████████| 71kB 11.6MB/s \n",
            "\u001b[?25hRequirement already satisfied: requests-oauthlib>=0.7.0 in /usr/local/lib/python3.6/dist-packages (from google-auth-oauthlib<0.5,>=0.4.1->tb-nightly->-r /content/curl-att/requirements.txt (line 10)) (1.3.0)\n",
            "Requirement already satisfied: certifi>=2017.4.17 in /usr/local/lib/python3.6/dist-packages (from requests<3,>=2.21.0->tb-nightly->-r /content/curl-att/requirements.txt (line 10)) (2020.4.5.1)\n",
            "Requirement already satisfied: idna<2.9,>=2.5 in /usr/local/lib/python3.6/dist-packages (from requests<3,>=2.21.0->tb-nightly->-r /content/curl-att/requirements.txt (line 10)) (2.8)\n",
            "Requirement already satisfied: chardet<3.1.0,>=3.0.2 in /usr/local/lib/python3.6/dist-packages (from requests<3,>=2.21.0->tb-nightly->-r /content/curl-att/requirements.txt (line 10)) (3.0.4)\n",
            "Requirement already satisfied: urllib3<1.25,>=1.21.1 in /usr/local/lib/python3.6/dist-packages (from requests<3,>=2.21.0->tb-nightly->-r /content/curl-att/requirements.txt (line 10)) (1.24.3)\n",
            "Requirement already satisfied: rsa<4.1,>=3.1.4 in /usr/local/lib/python3.6/dist-packages (from google-auth<2,>=1.6.3->tb-nightly->-r /content/curl-att/requirements.txt (line 10)) (4.0)\n",
            "Requirement already satisfied: cachetools<3.2,>=2.0.0 in /usr/local/lib/python3.6/dist-packages (from google-auth<2,>=1.6.3->tb-nightly->-r /content/curl-att/requirements.txt (line 10)) (3.1.1)\n",
            "Requirement already satisfied: pyasn1-modules>=0.2.1 in /usr/local/lib/python3.6/dist-packages (from google-auth<2,>=1.6.3->tb-nightly->-r /content/curl-att/requirements.txt (line 10)) (0.2.8)\n",
            "Requirement already satisfied: decorator>=4.3.0 in /usr/local/lib/python3.6/dist-packages (from networkx>=2.0->scikit-image->-r /content/curl-att/requirements.txt (line 14)) (4.4.2)\n",
            "Requirement already satisfied: kiwisolver>=1.0.1 in /usr/local/lib/python3.6/dist-packages (from matplotlib!=3.0.0,>=2.0.0->scikit-image->-r /content/curl-att/requirements.txt (line 14)) (1.2.0)\n",
            "Requirement already satisfied: cycler>=0.10 in /usr/local/lib/python3.6/dist-packages (from matplotlib!=3.0.0,>=2.0.0->scikit-image->-r /content/curl-att/requirements.txt (line 14)) (0.10.0)\n",
            "Requirement already satisfied: python-dateutil>=2.1 in /usr/local/lib/python3.6/dist-packages (from matplotlib!=3.0.0,>=2.0.0->scikit-image->-r /content/curl-att/requirements.txt (line 14)) (2.8.1)\n",
            "Collecting Parsley\n",
            "\u001b[?25l  Downloading https://files.pythonhosted.org/packages/2b/d6/4fed8d65e28a970e1c5cb33ce9c7e22e3de745e1b2ae37af051ef16aea3b/Parsley-1.3-py2.py3-none-any.whl (88kB)\n",
            "\u001b[K     |████████████████████████████████| 92kB 14.7MB/s \n",
            "\u001b[?25hRequirement already satisfied: attrs in /usr/local/lib/python3.6/dist-packages (from piglet-templates->piglet->-r /content/curl-att/requirements.txt (line 16)) (19.3.0)\n",
            "Requirement already satisfied: markupsafe in /usr/local/lib/python3.6/dist-packages (from piglet-templates->piglet->-r /content/curl-att/requirements.txt (line 16)) (1.1.1)\n",
            "Requirement already satisfied: astunparse in /usr/local/lib/python3.6/dist-packages (from piglet-templates->piglet->-r /content/curl-att/requirements.txt (line 16)) (1.6.3)\n",
            "Requirement already satisfied: oauthlib>=3.0.0 in /usr/local/lib/python3.6/dist-packages (from requests-oauthlib>=0.7.0->google-auth-oauthlib<0.5,>=0.4.1->tb-nightly->-r /content/curl-att/requirements.txt (line 10)) (3.1.0)\n",
            "Requirement already satisfied: pyasn1>=0.1.3 in /usr/local/lib/python3.6/dist-packages (from rsa<4.1,>=3.1.4->google-auth<2,>=1.6.3->tb-nightly->-r /content/curl-att/requirements.txt (line 10)) (0.4.8)\n",
            "Installing collected packages: dm-tree, dm-env, glfw, dm-control, tb-nightly, imageio-ffmpeg, EasyProcess, pyvirtualdisplay, Parsley, piglet-templates, piglet\n",
            "Successfully installed EasyProcess-0.2.10 Parsley-1.3 dm-control-0.0.300771433 dm-env-1.2 dm-tree-0.1.4 glfw-1.11.0 imageio-ffmpeg-0.4.1 piglet-1.0.0 piglet-templates-1.0.0 pyvirtualdisplay-0.2.5 tb-nightly-2.3.0a20200423\n"
          ],
          "name": "stdout"
        }
      ]
    },
    {
      "cell_type": "code",
      "metadata": {
        "id": "IXxaKbTFs48t",
        "colab_type": "code",
        "colab": {}
      },
      "source": [
        "from pyvirtualdisplay import Display\n",
        "display = Display(visible=0, size=(100, 100))\n",
        "display.start()\n",
        "\n",
        "# This code creates a virtual display to draw game images on. \n",
        "# If you are running locally, just ignore it\n",
        "import os\n",
        "if type(os.environ.get(\"DISPLAY\")) is not str or len(os.environ.get(\"DISPLAY\"))==0:\n",
        "    !bash ../xvfb start\n",
        "    %env DISPLAY=:1"
      ],
      "execution_count": 0,
      "outputs": []
    },
    {
      "cell_type": "code",
      "metadata": {
        "id": "Pd9tJhZbDsfr",
        "colab_type": "code",
        "colab": {}
      },
      "source": [
        "import numpy as np\n",
        "import math\n",
        "import torch\n",
        "import argparse\n",
        "import os\n",
        "import time\n",
        "import json\n",
        "import gym\n",
        "import os\n",
        "from dm_env import specs\n",
        "os.chdir('/content/curl-att/')\n",
        "import utils\n",
        "from logger import Logger\n",
        "from video import VideoRecorder\n",
        "from curl_sac import CurlSacAgent"
      ],
      "execution_count": 0,
      "outputs": []
    },
    {
      "cell_type": "code",
      "metadata": {
        "id": "jxfTGdVoJlhr",
        "colab_type": "code",
        "colab": {}
      },
      "source": [
        "args = {}\n",
        "# environment\n",
        "args['domain_name'] = 'CartPole-v0'\n",
        "args['task_name'] ='swingup'\n",
        "args['pre_transform_image_size'] = 100\n",
        "args['attention_encoder'] = True\n",
        "args['image_size'] = 50\n",
        "args['action_repeat'] = 1\n",
        "args['frame_stack'] = 3\n",
        "# replay buffer\n",
        "args['replay_buffer_capacity'] = 100000\n",
        "# train\n",
        "args['agent'] = 'curl_sac'\n",
        "args['init_steps'] = 1000\n",
        "args['num_train_steps'] = 100000\n",
        "args['batch_size'] = 32\n",
        "args['hidden_dim'] = 1024\n",
        "# eval\n",
        "args['eval_freq'] = 1000\n",
        "args['num_eval_episodes'] = 10\n",
        "# critic\n",
        "args['critic_lr'] = 1e-3\n",
        "args['critic_beta'] = 0.9\n",
        "args['critic_tau'] = 0.01 # try 0.05 or 0.1\n",
        "args['critic_target_update_freq'] = 2 # try to change it to 1 and retain 0.01 above\n",
        "# actor\n",
        "args['actor_lr'] = 1e-3\n",
        "args['actor_beta'] = 0.9\n",
        "args['actor_log_std_min'] = -10\n",
        "args['actor_log_std_max'] = 2\n",
        "args['actor_update_freq'] = 2\n",
        "# encoder\n",
        "args['encoder_type'] = 'pixel'\n",
        "args['encoder_feature_dim'] = 50\n",
        "args['encoder_lr'] = 1e-3\n",
        "args['encoder_tau'] = 0.05\n",
        "args['num_layers'] = 4\n",
        "args['num_filters'] = 32\n",
        "args['curl_latent_dim'] = 128\n",
        "# sac\n",
        "args['discount'] = 0.99\n",
        "args['init_temperature'] = 0.1\n",
        "args['alpha_lr'] = 1e-4\n",
        "args['alpha_beta'] = 0.5\n",
        "# misc\n",
        "args['seed'] = 1\n",
        "args['work_dir'] = '.'\n",
        "args['save_tb'] = False\n",
        "args['save_buffer'] = False\n",
        "args['save_video'] = False\n",
        "args['save_model'] = False\n",
        "args['detach_encoder'] = False\n",
        "\n",
        "args['log_interval'] = 100"
      ],
      "execution_count": 0,
      "outputs": []
    },
    {
      "cell_type": "code",
      "metadata": {
        "id": "QzS4xI7vHcho",
        "colab_type": "code",
        "outputId": "3f420e78-eebe-47c7-975d-d1f4d5c8d4dc",
        "colab": {
          "base_uri": "https://localhost:8080/",
          "height": 51
        }
      },
      "source": [
        "utils.set_seed_everywhere(args['seed'])\n",
        "env = gym.make(id=args['domain_name'])\n",
        "env.seed(args['seed'])\n",
        "env = utils.FrameStack(env, k=args['frame_stack'])\n",
        "\n",
        "# make directory\n",
        "ts = time.gmtime() \n",
        "ts = time.strftime(\"%m-%d\", ts)    \n",
        "env_name = args['domain_name'] + '-' + args['task_name']\n",
        "exp_name = env_name + '-' + ts + '-im' + str(args['image_size']) +'-b'  \\\n",
        "  + str(args['batch_size']) + '-s' + str(args['seed'])  + '-' + args['encoder_type']\n",
        "args['work_dir'] = args['work_dir'] + '/'  + exp_name\n",
        "utils.make_dir(args['work_dir'])\n",
        "video_dir = utils.make_dir(os.path.join(args['work_dir'], 'video'))\n",
        "model_dir = utils.make_dir(os.path.join(args['work_dir'], 'model'))\n",
        "buffer_dir = utils.make_dir(os.path.join(args['work_dir'], 'buffer'))\n",
        "video = VideoRecorder(video_dir if args['save_video'] else None)\n",
        "with open(os.path.join(args['work_dir'], 'args.json'), 'w') as f:\n",
        "    json.dump(args, f, sort_keys=True, indent=4)\n",
        "device = torch.device('cuda' if torch.cuda.is_available() else 'cpu')"
      ],
      "execution_count": 4,
      "outputs": [
        {
          "output_type": "stream",
          "text": [
            "/usr/local/lib/python3.6/dist-packages/gym/logger.py:30: UserWarning: \u001b[33mWARN: Box bound precision lowered by casting to float32\u001b[0m\n",
            "  warnings.warn(colorize('%s: %s'%('WARN', msg % args), 'yellow'))\n"
          ],
          "name": "stderr"
        }
      ]
    },
    {
      "cell_type": "code",
      "metadata": {
        "id": "dao110vncaii",
        "colab_type": "code",
        "outputId": "56f20090-93b5-4b56-800c-048e0719b5a6",
        "colab": {
          "base_uri": "https://localhost:8080/",
          "height": 51
        }
      },
      "source": [
        "def _spec_to_box(spec):\n",
        "    def extract_min_max(s):\n",
        "        #assert s.dtype == np.float64 or s.dtype == np.float32\n",
        "        dim = np.int(np.prod(s.shape))\n",
        "        #if type(s) == specs.Array:\n",
        "        #    bound = np.inf * np.ones(dim, dtype=np.float32)\n",
        "        #    return -bound, bound\n",
        "        #elif type(s) == specs.BoundedArray:\n",
        "        zeros = np.zeros(dim, dtype=np.float32)\n",
        "        return 0 + zeros, 1 + zeros\n",
        "\n",
        "    mins, maxs = [], []\n",
        "    for s in spec:\n",
        "        mn, mx = extract_min_max(s)\n",
        "        mins.append(mn)\n",
        "        maxs.append(mx)\n",
        "    low = np.concatenate(mins, axis=0)\n",
        "    high = np.concatenate(maxs, axis=0)\n",
        "    assert low.shape == high.shape\n",
        "    return gym.spaces.Box(low, high, dtype=np.float32)\n",
        "\n",
        "_true_action_space = _spec_to_box([env.action_space])\n",
        "_norm_action_space = gym.spaces.Box(\n",
        "    low=-1.0,\n",
        "    high=1.0,\n",
        "    shape=_true_action_space.shape,\n",
        "    dtype=np.float32\n",
        ")\n",
        "action_shape = _norm_action_space.shape"
      ],
      "execution_count": 5,
      "outputs": [
        {
          "output_type": "stream",
          "text": [
            "/usr/local/lib/python3.6/dist-packages/gym/logger.py:30: UserWarning: \u001b[33mWARN: Box bound precision lowered by casting to float32\u001b[0m\n",
            "  warnings.warn(colorize('%s: %s'%('WARN', msg % args), 'yellow'))\n"
          ],
          "name": "stderr"
        }
      ]
    },
    {
      "cell_type": "code",
      "metadata": {
        "id": "avLEVWEmV7UE",
        "colab_type": "code",
        "colab": {}
      },
      "source": [
        "#for cartpole test\n",
        "obs_shape = (3*args['frame_stack'], 75, 75)\n",
        "pre_aug_obs_shape = (3*args['frame_stack'], 75, 75)\n",
        "  \n",
        "replay_buffer = utils.ReplayBuffer(\n",
        "        obs_shape=pre_aug_obs_shape,\n",
        "        action_shape=action_shape,\n",
        "        capacity=args['replay_buffer_capacity'],\n",
        "        batch_size=args['batch_size'],\n",
        "        device=device,\n",
        "        image_size=args['image_size'],\n",
        "        attention_encoder = args['attention_encoder']\n",
        "    )"
      ],
      "execution_count": 0,
      "outputs": []
    },
    {
      "cell_type": "code",
      "metadata": {
        "id": "fbrnmGUKWv18",
        "colab_type": "code",
        "colab": {}
      },
      "source": [
        "agent = CurlSacAgent(\n",
        "            obs_shape=obs_shape,\n",
        "            action_shape=action_shape,\n",
        "            device=device,\n",
        "            hidden_dim=args['hidden_dim'],\n",
        "            discount=args['discount'],\n",
        "            init_temperature=args['init_temperature'],\n",
        "            alpha_lr=args['alpha_lr'],\n",
        "            alpha_beta=args['alpha_beta'],\n",
        "            actor_lr=args['actor_lr'],\n",
        "            actor_beta=args['actor_beta'],\n",
        "            actor_log_std_min=args['actor_log_std_min'],\n",
        "            actor_log_std_max=args['actor_log_std_max'],\n",
        "            actor_update_freq=args['actor_update_freq'],\n",
        "            critic_lr=args['critic_lr'],\n",
        "            critic_beta=args['critic_beta'],\n",
        "            critic_tau=args['critic_tau'],\n",
        "            critic_target_update_freq=args['critic_target_update_freq'],\n",
        "            encoder_type=args['encoder_type'],\n",
        "            encoder_feature_dim=args['encoder_feature_dim'],\n",
        "            encoder_lr=args['encoder_lr'],\n",
        "            encoder_tau=args['encoder_tau'],\n",
        "            num_layers=args['num_layers'],\n",
        "            num_filters=args['num_filters'],\n",
        "            log_interval=args['log_interval'],\n",
        "            detach_encoder=args['detach_encoder'],\n",
        "            curl_latent_dim=args['curl_latent_dim'],\n",
        "            attention_encoder=args['attention_encoder']\n",
        "        )"
      ],
      "execution_count": 0,
      "outputs": []
    },
    {
      "cell_type": "code",
      "metadata": {
        "id": "IT68qXdcXjJz",
        "colab_type": "code",
        "colab": {}
      },
      "source": [
        "L = Logger(args['work_dir'], use_tb=args['save_tb'])\n",
        "episode, episode_reward, done = 0, 0, True\n",
        "start_time = time.time()"
      ],
      "execution_count": 0,
      "outputs": []
    },
    {
      "cell_type": "code",
      "metadata": {
        "id": "4WcI_OTJXtV_",
        "colab_type": "code",
        "outputId": "e7caedda-c37c-4a71-ebef-067d6fff74f1",
        "colab": {
          "base_uri": "https://localhost:8080/",
          "height": 1000
        }
      },
      "source": [
        "from tqdm import tqdm\n",
        "\n",
        "def evaluate(env, agent, video, num_episodes, L, step, args):\n",
        "    all_ep_rewards = []\n",
        "\n",
        "    def run_eval_loop(sample_stochastically=True):\n",
        "        start_time = time.time()\n",
        "        prefix = 'stochastic_' if sample_stochastically else ''\n",
        "        for i in range(num_episodes):\n",
        "            obs = env.reset()\n",
        "            video.init(enabled=(i == 0))\n",
        "            done = False\n",
        "            episode_reward = 0\n",
        "            while not done:\n",
        "                # center crop image\n",
        "                if args['encoder_type'] == 'pixel':\n",
        "                    obs = utils.center_crop_image(obs,args['image_size'])\n",
        "                with utils.eval_mode(agent):\n",
        "                    if sample_stochastically:\n",
        "                        action = agent.sample_action(obs)\n",
        "                    else:\n",
        "                        action = agent.select_action(obs)\n",
        "                action = math.ceil(action)\n",
        "                obs, reward, done, _ = env.step(action)\n",
        "                video.record(env)\n",
        "                episode_reward += reward\n",
        "\n",
        "            video.save('%d.mp4' % step)\n",
        "            L.log('eval/' + prefix + 'episode_reward', episode_reward, step)\n",
        "            all_ep_rewards.append(episode_reward)\n",
        "        \n",
        "        L.log('eval/' + prefix + 'eval_time', time.time()-start_time , step)\n",
        "        mean_ep_reward = np.mean(all_ep_rewards)\n",
        "        best_ep_reward = np.max(all_ep_rewards)\n",
        "        L.log('eval/' + prefix + 'mean_episode_reward', mean_ep_reward, step)\n",
        "        L.log('eval/' + prefix + 'best_episode_reward', best_ep_reward, step)\n",
        "\n",
        "    run_eval_loop(sample_stochastically=False)\n",
        "    L.dump(step)\n",
        "\n",
        "for step in tqdm(range(args['num_train_steps'])):\n",
        "    # evaluate agent periodically\n",
        "    \n",
        "    if step % args['eval_freq'] == 0:\n",
        "        L.log('eval/episode', episode, step)\n",
        "        evaluate(env, agent, video, args['num_eval_episodes'], L, step, args)\n",
        "        if args['save_model']:\n",
        "            agent.save_curl(model_dir, step)\n",
        "        if args['save_buffer']:\n",
        "            replay_buffer.save(buffer_dir)\n",
        "    \n",
        "    if done:\n",
        "        if step > 0:\n",
        "            if step % args['log_interval'] == 0:\n",
        "                L.log('train/duration', time.time() - start_time, step)\n",
        "                L.dump(step)\n",
        "            start_time = time.time()\n",
        "        if step % args['log_interval'] == 0:\n",
        "            L.log('train/episode_reward', episode_reward, step)\n",
        "        obs = env.reset()\n",
        "        done = False\n",
        "        episode_reward = 0\n",
        "        episode_step = 0\n",
        "        episode += 1\n",
        "        if step % args['log_interval'] == 0:\n",
        "            L.log('train/episode', episode, step)\n",
        "    # sample action for data collection\n",
        "    if step < args['init_steps']:\n",
        "        action = env.action_space.sample()\n",
        "    else:\n",
        "        with utils.eval_mode(agent):\n",
        "            action = agent.sample_action(obs)\n",
        "            action = math.ceil(action)\n",
        "        # run training update\n",
        "        agent.update(replay_buffer, L, step)\n",
        "\n",
        "    next_obs, reward, done, _ = env.step(action)\n",
        "\n",
        "    # allow infinit bootstrap\n",
        "    done_bool = 0 if episode_step + 1 == env._max_episode_steps else float(\n",
        "        done\n",
        "    )\n",
        "    episode_reward += reward\n",
        "    replay_buffer.add(obs, action, reward, next_obs, done_bool)\n",
        "\n",
        "    obs = next_obs\n",
        "    episode_step += 1\n",
        "    #torch.cuda.empty_cache()"
      ],
      "execution_count": 9,
      "outputs": [
        {
          "output_type": "stream",
          "text": [
            "  0%|          | 50/100000 [00:00<17:01:10,  1.63it/s]"
          ],
          "name": "stderr"
        },
        {
          "output_type": "stream",
          "text": [
            "| \u001b[32meval\u001b[0m | S: 0 | ER: 8.9000\n"
          ],
          "name": "stdout"
        },
        {
          "output_type": "stream",
          "text": [
            "  1%|          | 970/100000 [00:02<04:55, 334.62it/s]"
          ],
          "name": "stderr"
        },
        {
          "output_type": "stream",
          "text": [
            "| \u001b[33mtrain\u001b[0m | E: 1 | S: 1000 | D: 0.0 s | R: 0.0000 | BR: 0.0000 | A_LOSS: 0.0000 | CR_LOSS: 0.0000 | CU_LOSS: 0.0000\n",
            "| \u001b[32meval\u001b[0m | S: 1000 | ER: 9.2000\n"
          ],
          "name": "stdout"
        },
        {
          "output_type": "stream",
          "text": [
            "/usr/local/lib/python3.6/dist-packages/gym/logger.py:30: UserWarning: \u001b[33mWARN: You are calling 'step()' even though this environment has already returned done = True. You should always call 'reset()' once you receive 'done = True' -- any further steps are undefined behavior.\u001b[0m\n",
            "  warnings.warn(colorize('%s: %s'%('WARN', msg % args), 'yellow'))\n",
            "  2%|▏         | 2001/100000 [02:55<7:47:24,  3.49it/s]"
          ],
          "name": "stderr"
        },
        {
          "output_type": "stream",
          "text": [
            "| \u001b[33mtrain\u001b[0m | E: 0 | S: 2000 | D: 0.0 s | R: 0.0000 | BR: 1.0000 | A_LOSS: -2.9134 | CR_LOSS: 0.6126 | CU_LOSS: 3.7407\n",
            "| \u001b[32meval\u001b[0m | S: 2000 | ER: 9.2000\n"
          ],
          "name": "stdout"
        },
        {
          "output_type": "stream",
          "text": [
            "  3%|▎         | 3001/100000 [05:47<7:54:02,  3.41it/s]"
          ],
          "name": "stderr"
        },
        {
          "output_type": "stream",
          "text": [
            "| \u001b[33mtrain\u001b[0m | E: 0 | S: 3000 | D: 0.0 s | R: 0.0000 | BR: 1.0000 | A_LOSS: -5.6361 | CR_LOSS: 2.6330 | CU_LOSS: 1.4685\n",
            "| \u001b[32meval\u001b[0m | S: 3000 | ER: 9.5000\n"
          ],
          "name": "stdout"
        },
        {
          "output_type": "stream",
          "text": [
            "  4%|▍         | 4001/100000 [08:39<7:43:24,  3.45it/s]"
          ],
          "name": "stderr"
        },
        {
          "output_type": "stream",
          "text": [
            "| \u001b[33mtrain\u001b[0m | E: 0 | S: 4000 | D: 0.0 s | R: 0.0000 | BR: 1.0000 | A_LOSS: -8.3182 | CR_LOSS: 4.7513 | CU_LOSS: 0.9169\n",
            "| \u001b[32meval\u001b[0m | S: 4000 | ER: 9.3000\n"
          ],
          "name": "stdout"
        },
        {
          "output_type": "stream",
          "text": [
            "  5%|▌         | 5001/100000 [11:31<7:35:26,  3.48it/s]"
          ],
          "name": "stderr"
        },
        {
          "output_type": "stream",
          "text": [
            "| \u001b[33mtrain\u001b[0m | E: 0 | S: 5000 | D: 0.0 s | R: 0.0000 | BR: 1.0000 | A_LOSS: -9.6382 | CR_LOSS: 4.9418 | CU_LOSS: 0.6248\n",
            "| \u001b[32meval\u001b[0m | S: 5000 | ER: 9.3000\n"
          ],
          "name": "stdout"
        },
        {
          "output_type": "stream",
          "text": [
            "  6%|▌         | 5600/100000 [13:14<4:25:07,  5.93it/s]"
          ],
          "name": "stderr"
        },
        {
          "output_type": "stream",
          "text": [
            "| \u001b[33mtrain\u001b[0m | E: 0 | S: 5600 | D: 2.7 s | R: 0.0000 | BR: 1.0000 | A_LOSS: -8.4540 | CR_LOSS: 7.5534 | CU_LOSS: 0.7120\n"
          ],
          "name": "stdout"
        },
        {
          "output_type": "stream",
          "text": [
            "  6%|▌         | 6001/100000 [14:23<7:23:37,  3.53it/s]"
          ],
          "name": "stderr"
        },
        {
          "output_type": "stream",
          "text": [
            "| \u001b[33mtrain\u001b[0m | E: 287 | S: 6000 | D: 0.0 s | R: 16.0000 | BR: 0.9922 | A_LOSS: -7.8827 | CR_LOSS: 7.4609 | CU_LOSS: 0.5104\n",
            "| \u001b[32meval\u001b[0m | S: 6000 | ER: 9.2000\n"
          ],
          "name": "stdout"
        },
        {
          "output_type": "stream",
          "text": [
            "  7%|▋         | 6600/100000 [16:05<4:21:20,  5.96it/s]"
          ],
          "name": "stderr"
        },
        {
          "output_type": "stream",
          "text": [
            "| \u001b[33mtrain\u001b[0m | E: 0 | S: 6600 | D: 2.7 s | R: 0.0000 | BR: 1.0000 | A_LOSS: -7.9234 | CR_LOSS: 4.4928 | CU_LOSS: 0.4533\n"
          ],
          "name": "stdout"
        },
        {
          "output_type": "stream",
          "text": [
            "  7%|▋         | 7001/100000 [17:15<12:35:14,  2.05it/s]"
          ],
          "name": "stderr"
        },
        {
          "output_type": "stream",
          "text": [
            "| \u001b[33mtrain\u001b[0m | E: 341 | S: 7000 | D: 0.0 s | R: 16.0000 | BR: 1.0000 | A_LOSS: -8.3133 | CR_LOSS: 8.2978 | CU_LOSS: 0.3910\n",
            "| \u001b[32meval\u001b[0m | S: 7000 | ER: 29.1000\n"
          ],
          "name": "stdout"
        },
        {
          "output_type": "stream",
          "text": [
            "  8%|▊         | 8001/100000 [20:06<7:25:31,  3.44it/s]"
          ],
          "name": "stderr"
        },
        {
          "output_type": "stream",
          "text": [
            "| \u001b[33mtrain\u001b[0m | E: 0 | S: 8000 | D: 0.0 s | R: 0.0000 | BR: 0.9969 | A_LOSS: -8.4944 | CR_LOSS: 5.1742 | CU_LOSS: 0.3873\n",
            "| \u001b[32meval\u001b[0m | S: 8000 | ER: 9.8000\n"
          ],
          "name": "stdout"
        },
        {
          "output_type": "stream",
          "text": [
            "  9%|▊         | 8700/100000 [22:06<4:16:34,  5.93it/s]"
          ],
          "name": "stderr"
        },
        {
          "output_type": "stream",
          "text": [
            "| \u001b[33mtrain\u001b[0m | E: 0 | S: 8700 | D: 1.9 s | R: 0.0000 | BR: 0.9955 | A_LOSS: -9.1712 | CR_LOSS: 8.4580 | CU_LOSS: 0.2997\n"
          ],
          "name": "stdout"
        },
        {
          "output_type": "stream",
          "text": [
            "  9%|▉         | 9001/100000 [22:58<8:09:12,  3.10it/s]"
          ],
          "name": "stderr"
        },
        {
          "output_type": "stream",
          "text": [
            "| \u001b[33mtrain\u001b[0m | E: 431 | S: 9000 | D: 0.0 s | R: 11.0000 | BR: 1.0000 | A_LOSS: -9.1163 | CR_LOSS: 5.7853 | CU_LOSS: 0.3349\n",
            "| \u001b[32meval\u001b[0m | S: 9000 | ER: 12.9000\n"
          ],
          "name": "stdout"
        },
        {
          "output_type": "stream",
          "text": [
            "  9%|▉         | 9100/100000 [23:15<4:15:03,  5.94it/s]"
          ],
          "name": "stderr"
        },
        {
          "output_type": "stream",
          "text": [
            "| \u001b[33mtrain\u001b[0m | E: 0 | S: 9100 | D: 2.1 s | R: 0.0000 | BR: 1.0000 | A_LOSS: -9.8891 | CR_LOSS: 13.0023 | CU_LOSS: 0.3126\n"
          ],
          "name": "stdout"
        },
        {
          "output_type": "stream",
          "text": [
            " 10%|▉         | 9600/100000 [24:41<4:14:03,  5.93it/s]"
          ],
          "name": "stderr"
        },
        {
          "output_type": "stream",
          "text": [
            "| \u001b[33mtrain\u001b[0m | E: 451 | S: 9600 | D: 6.7 s | R: 12.0000 | BR: 1.0000 | A_LOSS: -9.4406 | CR_LOSS: 6.8521 | CU_LOSS: 0.2952\n"
          ],
          "name": "stdout"
        },
        {
          "output_type": "stream",
          "text": [
            " 10%|█         | 10001/100000 [25:50<14:03:09,  1.78it/s]"
          ],
          "name": "stderr"
        },
        {
          "output_type": "stream",
          "text": [
            "| \u001b[33mtrain\u001b[0m | E: 472 | S: 10000 | D: 0.0 s | R: 39.0000 | BR: 1.0000 | A_LOSS: -9.7631 | CR_LOSS: 5.6791 | CU_LOSS: 0.2745\n",
            "| \u001b[32meval\u001b[0m | S: 10000 | ER: 36.3000\n"
          ],
          "name": "stdout"
        },
        {
          "output_type": "stream",
          "text": [
            " 11%|█         | 10800/100000 [28:07<4:09:51,  5.95it/s]"
          ],
          "name": "stderr"
        },
        {
          "output_type": "stream",
          "text": [
            "| \u001b[33mtrain\u001b[0m | E: 0 | S: 10800 | D: 2.7 s | R: 0.0000 | BR: 0.9961 | A_LOSS: -9.4425 | CR_LOSS: 9.8622 | CU_LOSS: 0.2543\n"
          ],
          "name": "stdout"
        },
        {
          "output_type": "stream",
          "text": [
            " 11%|█         | 11001/100000 [28:43<14:09:44,  1.75it/s]"
          ],
          "name": "stderr"
        },
        {
          "output_type": "stream",
          "text": [
            "| \u001b[33mtrain\u001b[0m | E: 514 | S: 11000 | D: 0.0 s | R: 16.0000 | BR: 0.9844 | A_LOSS: -9.0110 | CR_LOSS: 10.7023 | CU_LOSS: 0.5179\n",
            "| \u001b[32meval\u001b[0m | S: 11000 | ER: 37.7000\n"
          ],
          "name": "stdout"
        },
        {
          "output_type": "stream",
          "text": [
            " 12%|█▏        | 12001/100000 [31:35<14:01:27,  1.74it/s]"
          ],
          "name": "stderr"
        },
        {
          "output_type": "stream",
          "text": [
            "| \u001b[33mtrain\u001b[0m | E: 0 | S: 12000 | D: 0.0 s | R: 0.0000 | BR: 0.9969 | A_LOSS: -9.1942 | CR_LOSS: 9.1158 | CU_LOSS: 0.3045\n",
            "| \u001b[32meval\u001b[0m | S: 12000 | ER: 38.0000\n"
          ],
          "name": "stdout"
        },
        {
          "output_type": "stream",
          "text": [
            " 13%|█▎        | 13001/100000 [34:27<15:09:55,  1.59it/s]"
          ],
          "name": "stderr"
        },
        {
          "output_type": "stream",
          "text": [
            "| \u001b[33mtrain\u001b[0m | E: 0 | S: 13000 | D: 0.0 s | R: 0.0000 | BR: 1.0000 | A_LOSS: -9.0296 | CR_LOSS: 6.5387 | CU_LOSS: 0.3239\n",
            "| \u001b[32meval\u001b[0m | S: 13000 | ER: 42.2000\n"
          ],
          "name": "stdout"
        },
        {
          "output_type": "stream",
          "text": [
            " 14%|█▍        | 14001/100000 [37:20<16:30:38,  1.45it/s]"
          ],
          "name": "stderr"
        },
        {
          "output_type": "stream",
          "text": [
            "| \u001b[33mtrain\u001b[0m | E: 0 | S: 14000 | D: 0.0 s | R: 0.0000 | BR: 0.9969 | A_LOSS: -8.4307 | CR_LOSS: 7.6945 | CU_LOSS: 0.2186\n",
            "| \u001b[32meval\u001b[0m | S: 14000 | ER: 48.3000\n"
          ],
          "name": "stdout"
        },
        {
          "output_type": "stream",
          "text": [
            " 15%|█▌        | 15001/100000 [40:12<13:06:29,  1.80it/s]"
          ],
          "name": "stderr"
        },
        {
          "output_type": "stream",
          "text": [
            "| \u001b[33mtrain\u001b[0m | E: 0 | S: 15000 | D: 0.0 s | R: 0.0000 | BR: 1.0000 | A_LOSS: -7.6496 | CR_LOSS: 5.4799 | CU_LOSS: 0.3425\n",
            "| \u001b[32meval\u001b[0m | S: 15000 | ER: 35.3000\n"
          ],
          "name": "stdout"
        },
        {
          "output_type": "stream",
          "text": [
            " 16%|█▌        | 15800/100000 [42:29<3:57:01,  5.92it/s]"
          ],
          "name": "stderr"
        },
        {
          "output_type": "stream",
          "text": [
            "| \u001b[33mtrain\u001b[0m | E: 0 | S: 15800 | D: 6.9 s | R: 0.0000 | BR: 0.9961 | A_LOSS: -7.8576 | CR_LOSS: 4.4379 | CU_LOSS: 0.2508\n"
          ],
          "name": "stdout"
        },
        {
          "output_type": "stream",
          "text": [
            " 16%|█▌        | 16001/100000 [43:05<14:55:12,  1.56it/s]"
          ],
          "name": "stderr"
        },
        {
          "output_type": "stream",
          "text": [
            "| \u001b[33mtrain\u001b[0m | E: 643 | S: 16000 | D: 0.0 s | R: 40.0000 | BR: 1.0000 | A_LOSS: -8.0307 | CR_LOSS: 2.9722 | CU_LOSS: 0.1989\n",
            "| \u001b[32meval\u001b[0m | S: 16000 | ER: 43.7000\n"
          ],
          "name": "stdout"
        },
        {
          "output_type": "stream",
          "text": [
            " 17%|█▋        | 17001/100000 [45:58<17:29:52,  1.32it/s]"
          ],
          "name": "stderr"
        },
        {
          "output_type": "stream",
          "text": [
            "| \u001b[33mtrain\u001b[0m | E: 0 | S: 17000 | D: 0.0 s | R: 0.0000 | BR: 1.0000 | A_LOSS: -8.5747 | CR_LOSS: 5.9239 | CU_LOSS: 0.2782\n",
            "| \u001b[32meval\u001b[0m | S: 17000 | ER: 55.7000\n"
          ],
          "name": "stdout"
        },
        {
          "output_type": "stream",
          "text": [
            " 18%|█▊        | 18001/100000 [48:51<16:32:14,  1.38it/s]"
          ],
          "name": "stderr"
        },
        {
          "output_type": "stream",
          "text": [
            "| \u001b[33mtrain\u001b[0m | E: 0 | S: 18000 | D: 0.0 s | R: 0.0000 | BR: 1.0000 | A_LOSS: -9.5925 | CR_LOSS: 4.5372 | CU_LOSS: 0.2163\n",
            "| \u001b[32meval\u001b[0m | S: 18000 | ER: 52.9000\n"
          ],
          "name": "stdout"
        },
        {
          "output_type": "stream",
          "text": [
            " 18%|█▊        | 18500/100000 [50:16<3:47:47,  5.96it/s]"
          ],
          "name": "stderr"
        },
        {
          "output_type": "stream",
          "text": [
            "| \u001b[33mtrain\u001b[0m | E: 0 | S: 18500 | D: 5.1 s | R: 0.0000 | BR: 1.0000 | A_LOSS: -10.6403 | CR_LOSS: 6.4584 | CU_LOSS: 0.2696\n"
          ],
          "name": "stdout"
        },
        {
          "output_type": "stream",
          "text": [
            " 19%|█▉        | 19001/100000 [51:43<15:19:00,  1.47it/s]"
          ],
          "name": "stderr"
        },
        {
          "output_type": "stream",
          "text": [
            "| \u001b[33mtrain\u001b[0m | E: 702 | S: 19000 | D: 0.0 s | R: 30.0000 | BR: 1.0000 | A_LOSS: -11.8289 | CR_LOSS: 9.0519 | CU_LOSS: 0.2305\n",
            "| \u001b[32meval\u001b[0m | S: 19000 | ER: 47.6000\n"
          ],
          "name": "stdout"
        },
        {
          "output_type": "stream",
          "text": [
            " 20%|█▉        | 19700/100000 [53:43<3:45:03,  5.95it/s]"
          ],
          "name": "stderr"
        },
        {
          "output_type": "stream",
          "text": [
            "| \u001b[33mtrain\u001b[0m | E: 0 | S: 19700 | D: 9.0 s | R: 0.0000 | BR: 1.0000 | A_LOSS: -11.7344 | CR_LOSS: 9.1058 | CU_LOSS: 0.2743\n"
          ],
          "name": "stdout"
        },
        {
          "output_type": "stream",
          "text": [
            " 20%|██        | 20001/100000 [54:36<12:55:29,  1.72it/s]"
          ],
          "name": "stderr"
        },
        {
          "output_type": "stream",
          "text": [
            "| \u001b[33mtrain\u001b[0m | E: 731 | S: 20000 | D: 0.0 s | R: 53.0000 | BR: 1.0000 | A_LOSS: -12.5745 | CR_LOSS: 16.0205 | CU_LOSS: 0.1752\n",
            "| \u001b[32meval\u001b[0m | S: 20000 | ER: 38.0000\n"
          ],
          "name": "stdout"
        },
        {
          "output_type": "stream",
          "text": [
            " 21%|██        | 21001/100000 [57:28<14:44:06,  1.49it/s]"
          ],
          "name": "stderr"
        },
        {
          "output_type": "stream",
          "text": [
            "| \u001b[33mtrain\u001b[0m | E: 0 | S: 21000 | D: 0.0 s | R: 0.0000 | BR: 0.9969 | A_LOSS: -11.8455 | CR_LOSS: 10.7972 | CU_LOSS: 0.2166\n",
            "| \u001b[32meval\u001b[0m | S: 21000 | ER: 45.8000\n"
          ],
          "name": "stdout"
        },
        {
          "output_type": "stream",
          "text": [
            " 22%|██▏       | 22001/100000 [1:00:21<17:20:02,  1.25it/s]"
          ],
          "name": "stderr"
        },
        {
          "output_type": "stream",
          "text": [
            "| \u001b[33mtrain\u001b[0m | E: 0 | S: 22000 | D: 0.0 s | R: 0.0000 | BR: 1.0000 | A_LOSS: -10.8714 | CR_LOSS: 9.3249 | CU_LOSS: 0.1939\n",
            "| \u001b[32meval\u001b[0m | S: 22000 | ER: 56.0000\n"
          ],
          "name": "stdout"
        },
        {
          "output_type": "stream",
          "text": [
            " 23%|██▎       | 23001/100000 [1:03:14<10:05:32,  2.12it/s]"
          ],
          "name": "stderr"
        },
        {
          "output_type": "stream",
          "text": [
            "| \u001b[33mtrain\u001b[0m | E: 0 | S: 23000 | D: 0.0 s | R: 0.0000 | BR: 0.9938 | A_LOSS: -9.7980 | CR_LOSS: 9.8835 | CU_LOSS: 0.1699\n",
            "| \u001b[32meval\u001b[0m | S: 23000 | ER: 27.1000\n",
            "| \u001b[33mtrain\u001b[0m | E: 0 | S: 23000 | D: 5.6 s | R: 0.0000 | BR: 0.0000 | A_LOSS: 0.0000 | CR_LOSS: 0.0000 | CU_LOSS: 0.0000\n"
          ],
          "name": "stdout"
        },
        {
          "output_type": "stream",
          "text": [
            " 24%|██▍       | 24001/100000 [1:06:08<14:43:05,  1.43it/s]"
          ],
          "name": "stderr"
        },
        {
          "output_type": "stream",
          "text": [
            "| \u001b[33mtrain\u001b[0m | E: 810 | S: 24000 | D: 0.0 s | R: 27.0000 | BR: 1.0000 | A_LOSS: -10.4848 | CR_LOSS: 8.8970 | CU_LOSS: 0.1714\n",
            "| \u001b[32meval\u001b[0m | S: 24000 | ER: 48.4000\n"
          ],
          "name": "stdout"
        },
        {
          "output_type": "stream",
          "text": [
            " 25%|██▌       | 25001/100000 [1:09:02<14:19:17,  1.45it/s]"
          ],
          "name": "stderr"
        },
        {
          "output_type": "stream",
          "text": [
            "| \u001b[33mtrain\u001b[0m | E: 0 | S: 25000 | D: 0.0 s | R: 0.0000 | BR: 1.0000 | A_LOSS: -10.4350 | CR_LOSS: 9.5982 | CU_LOSS: 0.2235\n",
            "| \u001b[32meval\u001b[0m | S: 25000 | ER: 46.5000\n"
          ],
          "name": "stdout"
        },
        {
          "output_type": "stream",
          "text": [
            " 26%|██▌       | 26001/100000 [1:11:55<13:14:41,  1.55it/s]"
          ],
          "name": "stderr"
        },
        {
          "output_type": "stream",
          "text": [
            "| \u001b[33mtrain\u001b[0m | E: 0 | S: 26000 | D: 0.0 s | R: 0.0000 | BR: 1.0000 | A_LOSS: -10.5717 | CR_LOSS: 10.1191 | CU_LOSS: 0.1659\n",
            "| \u001b[32meval\u001b[0m | S: 26000 | ER: 42.5000\n"
          ],
          "name": "stdout"
        },
        {
          "output_type": "stream",
          "text": [
            " 27%|██▋       | 27001/100000 [1:14:48<10:37:40,  1.91it/s]"
          ],
          "name": "stderr"
        },
        {
          "output_type": "stream",
          "text": [
            "| \u001b[33mtrain\u001b[0m | E: 0 | S: 27000 | D: 0.0 s | R: 0.0000 | BR: 1.0000 | A_LOSS: -11.4768 | CR_LOSS: 12.9911 | CU_LOSS: 0.2211\n",
            "| \u001b[32meval\u001b[0m | S: 27000 | ER: 31.6000\n"
          ],
          "name": "stdout"
        },
        {
          "output_type": "stream",
          "text": [
            " 28%|██▊       | 27800/100000 [1:17:05<3:22:45,  5.93it/s]"
          ],
          "name": "stderr"
        },
        {
          "output_type": "stream",
          "text": [
            "| \u001b[33mtrain\u001b[0m | E: 0 | S: 27800 | D: 8.2 s | R: 0.0000 | BR: 1.0000 | A_LOSS: -11.4082 | CR_LOSS: 15.0222 | CU_LOSS: 0.1982\n"
          ],
          "name": "stdout"
        },
        {
          "output_type": "stream",
          "text": [
            " 28%|██▊       | 28001/100000 [1:17:42<19:44:05,  1.01it/s]"
          ],
          "name": "stderr"
        },
        {
          "output_type": "stream",
          "text": [
            "| \u001b[33mtrain\u001b[0m | E: 931 | S: 28000 | D: 0.0 s | R: 48.0000 | BR: 1.0000 | A_LOSS: -11.9363 | CR_LOSS: 23.1199 | CU_LOSS: 0.1921\n",
            "| \u001b[32meval\u001b[0m | S: 28000 | ER: 75.2000\n"
          ],
          "name": "stdout"
        },
        {
          "output_type": "stream",
          "text": [
            " 29%|██▉       | 29001/100000 [1:20:36<12:29:22,  1.58it/s]"
          ],
          "name": "stderr"
        },
        {
          "output_type": "stream",
          "text": [
            "| \u001b[33mtrain\u001b[0m | E: 0 | S: 29000 | D: 0.0 s | R: 0.0000 | BR: 1.0000 | A_LOSS: -12.0028 | CR_LOSS: 14.1408 | CU_LOSS: 0.1473\n",
            "| \u001b[32meval\u001b[0m | S: 29000 | ER: 38.3000\n"
          ],
          "name": "stdout"
        },
        {
          "output_type": "stream",
          "text": [
            " 30%|███       | 30001/100000 [1:23:29<10:34:20,  1.84it/s]"
          ],
          "name": "stderr"
        },
        {
          "output_type": "stream",
          "text": [
            "| \u001b[33mtrain\u001b[0m | E: 0 | S: 30000 | D: 0.0 s | R: 0.0000 | BR: 0.9969 | A_LOSS: -13.1898 | CR_LOSS: 18.7530 | CU_LOSS: 0.1593\n",
            "| \u001b[32meval\u001b[0m | S: 30000 | ER: 32.8000\n"
          ],
          "name": "stdout"
        },
        {
          "output_type": "stream",
          "text": [
            " 31%|███       | 31001/100000 [1:26:22<14:41:15,  1.30it/s]"
          ],
          "name": "stderr"
        },
        {
          "output_type": "stream",
          "text": [
            "| \u001b[33mtrain\u001b[0m | E: 0 | S: 31000 | D: 0.0 s | R: 0.0000 | BR: 1.0000 | A_LOSS: -13.1185 | CR_LOSS: 15.4885 | CU_LOSS: 0.1647\n",
            "| \u001b[32meval\u001b[0m | S: 31000 | ER: 53.6000\n"
          ],
          "name": "stdout"
        },
        {
          "output_type": "stream",
          "text": [
            " 32%|███▏      | 32001/100000 [1:29:16<11:32:25,  1.64it/s]"
          ],
          "name": "stderr"
        },
        {
          "output_type": "stream",
          "text": [
            "| \u001b[33mtrain\u001b[0m | E: 0 | S: 32000 | D: 0.0 s | R: 0.0000 | BR: 1.0000 | A_LOSS: -13.5831 | CR_LOSS: 17.1047 | CU_LOSS: 0.1264\n",
            "| \u001b[32meval\u001b[0m | S: 32000 | ER: 38.8000\n"
          ],
          "name": "stdout"
        },
        {
          "output_type": "stream",
          "text": [
            " 33%|███▎      | 33001/100000 [1:32:09<10:26:31,  1.78it/s]"
          ],
          "name": "stderr"
        },
        {
          "output_type": "stream",
          "text": [
            "| \u001b[33mtrain\u001b[0m | E: 0 | S: 33000 | D: 0.0 s | R: 0.0000 | BR: 1.0000 | A_LOSS: -16.1105 | CR_LOSS: 28.1930 | CU_LOSS: 0.1412\n",
            "| \u001b[32meval\u001b[0m | S: 33000 | ER: 35.5000\n"
          ],
          "name": "stdout"
        },
        {
          "output_type": "stream",
          "text": [
            " 34%|███▍      | 34001/100000 [1:35:01<9:01:35,  2.03it/s]"
          ],
          "name": "stderr"
        },
        {
          "output_type": "stream",
          "text": [
            "| \u001b[33mtrain\u001b[0m | E: 0 | S: 34000 | D: 0.0 s | R: 0.0000 | BR: 0.9969 | A_LOSS: -15.4223 | CR_LOSS: 19.5721 | CU_LOSS: 0.1571\n",
            "| \u001b[32meval\u001b[0m | S: 34000 | ER: 26.3000\n"
          ],
          "name": "stdout"
        },
        {
          "output_type": "stream",
          "text": [
            " 35%|███▌      | 35001/100000 [1:37:53<10:41:00,  1.69it/s]"
          ],
          "name": "stderr"
        },
        {
          "output_type": "stream",
          "text": [
            "| \u001b[33mtrain\u001b[0m | E: 0 | S: 35000 | D: 0.0 s | R: 0.0000 | BR: 0.9969 | A_LOSS: -14.5409 | CR_LOSS: 20.2978 | CU_LOSS: 0.1569\n",
            "| \u001b[32meval\u001b[0m | S: 35000 | ER: 39.3000\n"
          ],
          "name": "stdout"
        },
        {
          "output_type": "stream",
          "text": [
            " 35%|███▌      | 35400/100000 [1:39:01<3:01:04,  5.95it/s]"
          ],
          "name": "stderr"
        },
        {
          "output_type": "stream",
          "text": [
            "| \u001b[33mtrain\u001b[0m | E: 0 | S: 35400 | D: 15.1 s | R: 0.0000 | BR: 1.0000 | A_LOSS: -14.7932 | CR_LOSS: 24.5392 | CU_LOSS: 0.1763\n"
          ],
          "name": "stdout"
        },
        {
          "output_type": "stream",
          "text": [
            " 36%|███▌      | 36001/100000 [1:40:46<13:11:33,  1.35it/s]"
          ],
          "name": "stderr"
        },
        {
          "output_type": "stream",
          "text": [
            "| \u001b[33mtrain\u001b[0m | E: 1136 | S: 36000 | D: 0.0 s | R: 88.0000 | BR: 1.0000 | A_LOSS: -14.8953 | CR_LOSS: 18.1434 | CU_LOSS: 0.1362\n",
            "| \u001b[32meval\u001b[0m | S: 36000 | ER: 53.8000\n"
          ],
          "name": "stdout"
        },
        {
          "output_type": "stream",
          "text": [
            " 37%|███▋      | 37001/100000 [1:43:39<12:59:21,  1.35it/s]"
          ],
          "name": "stderr"
        },
        {
          "output_type": "stream",
          "text": [
            "| \u001b[33mtrain\u001b[0m | E: 0 | S: 37000 | D: 0.0 s | R: 0.0000 | BR: 1.0000 | A_LOSS: -14.2151 | CR_LOSS: 19.6414 | CU_LOSS: 0.1224\n",
            "| \u001b[32meval\u001b[0m | S: 37000 | ER: 54.2000\n"
          ],
          "name": "stdout"
        },
        {
          "output_type": "stream",
          "text": [
            " 38%|███▊      | 38001/100000 [1:46:31<8:07:37,  2.12it/s]"
          ],
          "name": "stderr"
        },
        {
          "output_type": "stream",
          "text": [
            "| \u001b[33mtrain\u001b[0m | E: 0 | S: 38000 | D: 0.0 s | R: 0.0000 | BR: 1.0000 | A_LOSS: -15.8474 | CR_LOSS: 20.7090 | CU_LOSS: 0.1171\n",
            "| \u001b[32meval\u001b[0m | S: 38000 | ER: 27.6000\n"
          ],
          "name": "stdout"
        },
        {
          "output_type": "stream",
          "text": [
            " 39%|███▉      | 38900/100000 [1:49:05<2:51:08,  5.95it/s]"
          ],
          "name": "stderr"
        },
        {
          "output_type": "stream",
          "text": [
            "| \u001b[33mtrain\u001b[0m | E: 0 | S: 38900 | D: 5.1 s | R: 0.0000 | BR: 1.0000 | A_LOSS: -15.8737 | CR_LOSS: 22.7103 | CU_LOSS: 0.1142\n"
          ],
          "name": "stdout"
        },
        {
          "output_type": "stream",
          "text": [
            " 39%|███▉      | 39001/100000 [1:49:24<11:36:47,  1.46it/s]"
          ],
          "name": "stderr"
        },
        {
          "output_type": "stream",
          "text": [
            "| \u001b[33mtrain\u001b[0m | E: 1239 | S: 39000 | D: 0.0 s | R: 30.0000 | BR: 1.0000 | A_LOSS: -15.5022 | CR_LOSS: 9.3461 | CU_LOSS: 0.0788\n",
            "| \u001b[32meval\u001b[0m | S: 39000 | ER: 48.7000\n"
          ],
          "name": "stdout"
        },
        {
          "output_type": "stream",
          "text": [
            " 40%|████      | 40001/100000 [1:52:16<8:27:26,  1.97it/s]"
          ],
          "name": "stderr"
        },
        {
          "output_type": "stream",
          "text": [
            "| \u001b[33mtrain\u001b[0m | E: 0 | S: 40000 | D: 0.0 s | R: 0.0000 | BR: 1.0000 | A_LOSS: -16.4342 | CR_LOSS: 21.9876 | CU_LOSS: 0.1832\n",
            "| \u001b[32meval\u001b[0m | S: 40000 | ER: 31.0000\n"
          ],
          "name": "stdout"
        },
        {
          "output_type": "stream",
          "text": [
            " 41%|████      | 41001/100000 [1:55:08<7:05:38,  2.31it/s]"
          ],
          "name": "stderr"
        },
        {
          "output_type": "stream",
          "text": [
            "| \u001b[33mtrain\u001b[0m | E: 0 | S: 41000 | D: 0.0 s | R: 0.0000 | BR: 0.9969 | A_LOSS: -15.8972 | CR_LOSS: 23.2043 | CU_LOSS: 0.1347\n",
            "| \u001b[32meval\u001b[0m | S: 41000 | ER: 23.3000\n"
          ],
          "name": "stdout"
        },
        {
          "output_type": "stream",
          "text": [
            " 42%|████▏     | 42001/100000 [1:58:00<8:57:03,  1.80it/s]"
          ],
          "name": "stderr"
        },
        {
          "output_type": "stream",
          "text": [
            "| \u001b[33mtrain\u001b[0m | E: 0 | S: 42000 | D: 0.0 s | R: 0.0000 | BR: 0.9969 | A_LOSS: -14.7651 | CR_LOSS: 17.3555 | CU_LOSS: 0.1200\n",
            "| \u001b[32meval\u001b[0m | S: 42000 | ER: 35.6000\n"
          ],
          "name": "stdout"
        },
        {
          "output_type": "stream",
          "text": [
            " 43%|████▎     | 43001/100000 [2:00:52<12:25:25,  1.27it/s]"
          ],
          "name": "stderr"
        },
        {
          "output_type": "stream",
          "text": [
            "| \u001b[33mtrain\u001b[0m | E: 0 | S: 43000 | D: 0.0 s | R: 0.0000 | BR: 1.0000 | A_LOSS: -12.7102 | CR_LOSS: 14.0112 | CU_LOSS: 0.1936\n",
            "| \u001b[32meval\u001b[0m | S: 43000 | ER: 58.0000\n"
          ],
          "name": "stdout"
        },
        {
          "output_type": "stream",
          "text": [
            " 44%|████▍     | 44001/100000 [2:03:45<9:36:31,  1.62it/s]"
          ],
          "name": "stderr"
        },
        {
          "output_type": "stream",
          "text": [
            "| \u001b[33mtrain\u001b[0m | E: 0 | S: 44000 | D: 0.0 s | R: 0.0000 | BR: 1.0000 | A_LOSS: -11.8910 | CR_LOSS: 12.4438 | CU_LOSS: 0.1393\n",
            "| \u001b[32meval\u001b[0m | S: 44000 | ER: 41.3000\n"
          ],
          "name": "stdout"
        },
        {
          "output_type": "stream",
          "text": [
            " 44%|████▍     | 44200/100000 [2:04:19<2:36:46,  5.93it/s]"
          ],
          "name": "stderr"
        },
        {
          "output_type": "stream",
          "text": [
            "| \u001b[33mtrain\u001b[0m | E: 0 | S: 44200 | D: 4.5 s | R: 0.0000 | BR: 1.0000 | A_LOSS: -11.5843 | CR_LOSS: 5.7968 | CU_LOSS: 0.0434\n"
          ],
          "name": "stdout"
        },
        {
          "output_type": "stream",
          "text": [
            " 45%|████▌     | 45001/100000 [2:06:38<8:26:54,  1.81it/s]"
          ],
          "name": "stderr"
        },
        {
          "output_type": "stream",
          "text": [
            "| \u001b[33mtrain\u001b[0m | E: 1364 | S: 45000 | D: 0.0 s | R: 26.0000 | BR: 0.9961 | A_LOSS: -13.1875 | CR_LOSS: 14.4988 | CU_LOSS: 0.1269\n",
            "| \u001b[32meval\u001b[0m | S: 45000 | ER: 35.3000\n"
          ],
          "name": "stdout"
        },
        {
          "output_type": "stream",
          "text": [
            " 46%|████▌     | 45800/100000 [2:08:55<2:32:30,  5.92it/s]"
          ],
          "name": "stderr"
        },
        {
          "output_type": "stream",
          "text": [
            "| \u001b[33mtrain\u001b[0m | E: 0 | S: 45800 | D: 7.0 s | R: 0.0000 | BR: 1.0000 | A_LOSS: -13.8705 | CR_LOSS: 15.7056 | CU_LOSS: 0.1344\n"
          ],
          "name": "stdout"
        },
        {
          "output_type": "stream",
          "text": [
            " 46%|████▌     | 46001/100000 [2:09:32<13:22:36,  1.12it/s]"
          ],
          "name": "stderr"
        },
        {
          "output_type": "stream",
          "text": [
            "| \u001b[33mtrain\u001b[0m | E: 1400 | S: 46000 | D: 0.0 s | R: 41.0000 | BR: 1.0000 | A_LOSS: -13.9601 | CR_LOSS: 18.6390 | CU_LOSS: 0.0729\n",
            "| \u001b[32meval\u001b[0m | S: 46000 | ER: 68.7000\n"
          ],
          "name": "stdout"
        },
        {
          "output_type": "stream",
          "text": [
            " 47%|████▋     | 47001/100000 [2:12:25<8:51:49,  1.66it/s]"
          ],
          "name": "stderr"
        },
        {
          "output_type": "stream",
          "text": [
            "| \u001b[33mtrain\u001b[0m | E: 0 | S: 47000 | D: 0.0 s | R: 0.0000 | BR: 0.9969 | A_LOSS: -13.9310 | CR_LOSS: 18.5251 | CU_LOSS: 0.1964\n",
            "| \u001b[32meval\u001b[0m | S: 47000 | ER: 40.6000\n"
          ],
          "name": "stdout"
        },
        {
          "output_type": "stream",
          "text": [
            " 48%|████▊     | 48001/100000 [2:15:17<6:04:14,  2.38it/s]"
          ],
          "name": "stderr"
        },
        {
          "output_type": "stream",
          "text": [
            "| \u001b[33mtrain\u001b[0m | E: 0 | S: 48000 | D: 0.0 s | R: 0.0000 | BR: 1.0000 | A_LOSS: -15.5584 | CR_LOSS: 20.3041 | CU_LOSS: 0.1529\n",
            "| \u001b[32meval\u001b[0m | S: 48000 | ER: 22.5000\n"
          ],
          "name": "stdout"
        },
        {
          "output_type": "stream",
          "text": [
            " 49%|████▊     | 48600/100000 [2:17:00<2:23:52,  5.95it/s]"
          ],
          "name": "stderr"
        },
        {
          "output_type": "stream",
          "text": [
            "| \u001b[33mtrain\u001b[0m | E: 0 | S: 48600 | D: 3.2 s | R: 0.0000 | BR: 1.0000 | A_LOSS: -19.2573 | CR_LOSS: 18.4551 | CU_LOSS: 0.1244\n"
          ],
          "name": "stdout"
        },
        {
          "output_type": "stream",
          "text": [
            " 49%|████▉     | 49001/100000 [2:18:11<13:17:34,  1.07it/s]"
          ],
          "name": "stderr"
        },
        {
          "output_type": "stream",
          "text": [
            "| \u001b[33mtrain\u001b[0m | E: 1479 | S: 49000 | D: 0.0 s | R: 19.0000 | BR: 1.0000 | A_LOSS: -19.6860 | CR_LOSS: 19.8331 | CU_LOSS: 0.1188\n",
            "| \u001b[32meval\u001b[0m | S: 49000 | ER: 72.6000\n"
          ],
          "name": "stdout"
        },
        {
          "output_type": "stream",
          "text": [
            " 50%|█████     | 50001/100000 [2:21:03<7:38:55,  1.82it/s]"
          ],
          "name": "stderr"
        },
        {
          "output_type": "stream",
          "text": [
            "| \u001b[33mtrain\u001b[0m | E: 0 | S: 50000 | D: 0.0 s | R: 0.0000 | BR: 1.0000 | A_LOSS: -22.7348 | CR_LOSS: 40.9763 | CU_LOSS: 0.1287\n",
            "| \u001b[32meval\u001b[0m | S: 50000 | ER: 35.4000\n"
          ],
          "name": "stdout"
        },
        {
          "output_type": "stream",
          "text": [
            " 51%|█████     | 51001/100000 [2:23:56<9:08:46,  1.49it/s]"
          ],
          "name": "stderr"
        },
        {
          "output_type": "stream",
          "text": [
            "| \u001b[33mtrain\u001b[0m | E: 0 | S: 51000 | D: 0.0 s | R: 0.0000 | BR: 0.9969 | A_LOSS: -28.0694 | CR_LOSS: 68.7194 | CU_LOSS: 0.1109\n",
            "| \u001b[32meval\u001b[0m | S: 51000 | ER: 47.0000\n"
          ],
          "name": "stdout"
        },
        {
          "output_type": "stream",
          "text": [
            " 52%|█████▏    | 52001/100000 [2:26:48<6:47:36,  1.96it/s]"
          ],
          "name": "stderr"
        },
        {
          "output_type": "stream",
          "text": [
            "| \u001b[33mtrain\u001b[0m | E: 0 | S: 52000 | D: 0.0 s | R: 0.0000 | BR: 0.9938 | A_LOSS: -31.3496 | CR_LOSS: 111.4399 | CU_LOSS: 0.1658\n",
            "| \u001b[32meval\u001b[0m | S: 52000 | ER: 31.0000\n"
          ],
          "name": "stdout"
        },
        {
          "output_type": "stream",
          "text": [
            " 52%|█████▏    | 52200/100000 [2:27:22<2:14:08,  5.94it/s]"
          ],
          "name": "stderr"
        },
        {
          "output_type": "stream",
          "text": [
            "| \u001b[33mtrain\u001b[0m | E: 0 | S: 52200 | D: 3.2 s | R: 0.0000 | BR: 1.0000 | A_LOSS: -33.8157 | CR_LOSS: 118.2107 | CU_LOSS: 0.0752\n"
          ],
          "name": "stdout"
        },
        {
          "output_type": "stream",
          "text": [
            " 53%|█████▎    | 53001/100000 [2:29:40<6:20:49,  2.06it/s]"
          ],
          "name": "stderr"
        },
        {
          "output_type": "stream",
          "text": [
            "| \u001b[33mtrain\u001b[0m | E: 1573 | S: 53000 | D: 0.0 s | R: 19.0000 | BR: 1.0000 | A_LOSS: -37.3466 | CR_LOSS: 137.4628 | CU_LOSS: 0.1450\n",
            "| \u001b[32meval\u001b[0m | S: 53000 | ER: 29.3000\n"
          ],
          "name": "stdout"
        },
        {
          "output_type": "stream",
          "text": [
            " 54%|█████▍    | 54001/100000 [2:32:31<6:16:46,  2.03it/s]"
          ],
          "name": "stderr"
        },
        {
          "output_type": "stream",
          "text": [
            "| \u001b[33mtrain\u001b[0m | E: 0 | S: 54000 | D: 0.0 s | R: 0.0000 | BR: 1.0000 | A_LOSS: -45.4316 | CR_LOSS: 154.1857 | CU_LOSS: 0.0838\n",
            "| \u001b[32meval\u001b[0m | S: 54000 | ER: 29.8000\n"
          ],
          "name": "stdout"
        },
        {
          "output_type": "stream",
          "text": [
            " 55%|█████▌    | 55001/100000 [2:35:23<5:06:37,  2.45it/s]"
          ],
          "name": "stderr"
        },
        {
          "output_type": "stream",
          "text": [
            "| \u001b[33mtrain\u001b[0m | E: 0 | S: 55000 | D: 0.0 s | R: 0.0000 | BR: 1.0000 | A_LOSS: -52.0389 | CR_LOSS: 234.9554 | CU_LOSS: 0.0967\n",
            "| \u001b[32meval\u001b[0m | S: 55000 | ER: 21.6000\n"
          ],
          "name": "stdout"
        },
        {
          "output_type": "stream",
          "text": [
            " 56%|█████▌    | 56001/100000 [2:38:14<5:14:20,  2.33it/s]"
          ],
          "name": "stderr"
        },
        {
          "output_type": "stream",
          "text": [
            "| \u001b[33mtrain\u001b[0m | E: 0 | S: 56000 | D: 0.0 s | R: 0.0000 | BR: 0.9969 | A_LOSS: -60.6760 | CR_LOSS: 261.6873 | CU_LOSS: 0.1064\n",
            "| \u001b[32meval\u001b[0m | S: 56000 | ER: 23.4000\n"
          ],
          "name": "stdout"
        },
        {
          "output_type": "stream",
          "text": [
            " 57%|█████▋    | 57001/100000 [2:41:05<5:25:57,  2.20it/s]"
          ],
          "name": "stderr"
        },
        {
          "output_type": "stream",
          "text": [
            "| \u001b[33mtrain\u001b[0m | E: 0 | S: 57000 | D: 0.0 s | R: 0.0000 | BR: 1.0000 | A_LOSS: -67.7719 | CR_LOSS: 332.1219 | CU_LOSS: 0.0764\n",
            "| \u001b[32meval\u001b[0m | S: 57000 | ER: 25.6000\n"
          ],
          "name": "stdout"
        },
        {
          "output_type": "stream",
          "text": [
            " 58%|█████▊    | 58001/100000 [2:43:56<5:25:02,  2.15it/s]"
          ],
          "name": "stderr"
        },
        {
          "output_type": "stream",
          "text": [
            "| \u001b[33mtrain\u001b[0m | E: 0 | S: 58000 | D: 0.0 s | R: 0.0000 | BR: 0.9969 | A_LOSS: -70.4496 | CR_LOSS: 408.6875 | CU_LOSS: 0.1247\n",
            "| \u001b[32meval\u001b[0m | S: 58000 | ER: 27.0000\n"
          ],
          "name": "stdout"
        },
        {
          "output_type": "stream",
          "text": [
            " 59%|█████▉    | 59001/100000 [2:46:47<4:58:04,  2.29it/s]"
          ],
          "name": "stderr"
        },
        {
          "output_type": "stream",
          "text": [
            "| \u001b[33mtrain\u001b[0m | E: 0 | S: 59000 | D: 0.0 s | R: 0.0000 | BR: 0.9969 | A_LOSS: -73.1131 | CR_LOSS: 553.5180 | CU_LOSS: 0.1373\n",
            "| \u001b[32meval\u001b[0m | S: 59000 | ER: 24.2000\n"
          ],
          "name": "stdout"
        },
        {
          "output_type": "stream",
          "text": [
            " 60%|█████▉    | 59700/100000 [2:48:46<1:52:20,  5.98it/s]"
          ],
          "name": "stderr"
        },
        {
          "output_type": "stream",
          "text": [
            "| \u001b[33mtrain\u001b[0m | E: 0 | S: 59700 | D: 3.6 s | R: 0.0000 | BR: 1.0000 | A_LOSS: -87.5003 | CR_LOSS: 491.4476 | CU_LOSS: 0.0570\n"
          ],
          "name": "stdout"
        },
        {
          "output_type": "stream",
          "text": [
            " 60%|██████    | 60001/100000 [2:49:38<4:42:47,  2.36it/s]"
          ],
          "name": "stderr"
        },
        {
          "output_type": "stream",
          "text": [
            "| \u001b[33mtrain\u001b[0m | E: 1872 | S: 60000 | D: 0.0 s | R: 21.0000 | BR: 1.0000 | A_LOSS: -90.7833 | CR_LOSS: 516.2632 | CU_LOSS: 0.1172\n",
            "| \u001b[32meval\u001b[0m | S: 60000 | ER: 23.4000\n"
          ],
          "name": "stdout"
        },
        {
          "output_type": "stream",
          "text": [
            " 61%|██████    | 61001/100000 [2:52:30<4:35:46,  2.36it/s]"
          ],
          "name": "stderr"
        },
        {
          "output_type": "stream",
          "text": [
            "| \u001b[33mtrain\u001b[0m | E: 0 | S: 61000 | D: 0.0 s | R: 0.0000 | BR: 1.0000 | A_LOSS: -102.3725 | CR_LOSS: 925.8431 | CU_LOSS: 0.1607\n",
            "| \u001b[32meval\u001b[0m | S: 61000 | ER: 23.0000\n"
          ],
          "name": "stdout"
        },
        {
          "output_type": "stream",
          "text": [
            " 62%|██████▏   | 62001/100000 [2:55:21<4:28:03,  2.36it/s]"
          ],
          "name": "stderr"
        },
        {
          "output_type": "stream",
          "text": [
            "| \u001b[33mtrain\u001b[0m | E: 0 | S: 62000 | D: 0.0 s | R: 0.0000 | BR: 0.9969 | A_LOSS: -117.2382 | CR_LOSS: 1094.3703 | CU_LOSS: 0.0876\n",
            "| \u001b[32meval\u001b[0m | S: 62000 | ER: 22.9000\n"
          ],
          "name": "stdout"
        },
        {
          "output_type": "stream",
          "text": [
            " 62%|██████▏   | 62100/100000 [2:55:37<1:45:41,  5.98it/s]"
          ],
          "name": "stderr"
        },
        {
          "output_type": "stream",
          "text": [
            "| \u001b[33mtrain\u001b[0m | E: 0 | S: 62100 | D: 3.7 s | R: 0.0000 | BR: 1.0000 | A_LOSS: -116.6940 | CR_LOSS: 1082.6157 | CU_LOSS: 0.2266\n"
          ],
          "name": "stdout"
        },
        {
          "output_type": "stream",
          "text": [
            " 63%|██████▎   | 63001/100000 [2:58:12<4:57:40,  2.07it/s]"
          ],
          "name": "stderr"
        },
        {
          "output_type": "stream",
          "text": [
            "| \u001b[33mtrain\u001b[0m | E: 1977 | S: 63000 | D: 0.0 s | R: 22.0000 | BR: 1.0000 | A_LOSS: -131.6511 | CR_LOSS: 1030.4719 | CU_LOSS: 0.0976\n",
            "| \u001b[32meval\u001b[0m | S: 63000 | ER: 29.2000\n"
          ],
          "name": "stdout"
        },
        {
          "output_type": "stream",
          "text": [
            " 64%|██████▍   | 64001/100000 [3:01:03<4:06:41,  2.43it/s]"
          ],
          "name": "stderr"
        },
        {
          "output_type": "stream",
          "text": [
            "| \u001b[33mtrain\u001b[0m | E: 0 | S: 64000 | D: 0.0 s | R: 0.0000 | BR: 1.0000 | A_LOSS: -130.5184 | CR_LOSS: 1370.4329 | CU_LOSS: 0.0861\n",
            "| \u001b[32meval\u001b[0m | S: 64000 | ER: 22.0000\n"
          ],
          "name": "stdout"
        },
        {
          "output_type": "stream",
          "text": [
            " 64%|██████▍   | 64400/100000 [3:02:11<1:39:17,  5.98it/s]"
          ],
          "name": "stderr"
        },
        {
          "output_type": "stream",
          "text": [
            "| \u001b[33mtrain\u001b[0m | E: 0 | S: 64400 | D: 4.6 s | R: 0.0000 | BR: 1.0000 | A_LOSS: -146.6248 | CR_LOSS: 1272.3873 | CU_LOSS: 0.1220\n"
          ],
          "name": "stdout"
        },
        {
          "output_type": "stream",
          "text": [
            " 65%|██████▌   | 65001/100000 [3:03:56<8:08:59,  1.19it/s]"
          ],
          "name": "stderr"
        },
        {
          "output_type": "stream",
          "text": [
            "| \u001b[33mtrain\u001b[0m | E: 2066 | S: 65000 | D: 0.0 s | R: 27.0000 | BR: 1.0000 | A_LOSS: -142.0748 | CR_LOSS: 1005.9922 | CU_LOSS: 0.0525\n",
            "| \u001b[32meval\u001b[0m | S: 65000 | ER: 63.0000\n"
          ],
          "name": "stdout"
        },
        {
          "output_type": "stream",
          "text": [
            " 66%|██████▌   | 66001/100000 [3:06:47<4:12:34,  2.24it/s]"
          ],
          "name": "stderr"
        },
        {
          "output_type": "stream",
          "text": [
            "| \u001b[33mtrain\u001b[0m | E: 0 | S: 66000 | D: 0.0 s | R: 0.0000 | BR: 1.0000 | A_LOSS: -154.6744 | CR_LOSS: 1362.9691 | CU_LOSS: 0.0783\n",
            "| \u001b[32meval\u001b[0m | S: 66000 | ER: 25.3000\n"
          ],
          "name": "stdout"
        },
        {
          "output_type": "stream",
          "text": [
            " 67%|██████▋   | 67001/100000 [3:09:40<5:07:03,  1.79it/s]"
          ],
          "name": "stderr"
        },
        {
          "output_type": "stream",
          "text": [
            "| \u001b[33mtrain\u001b[0m | E: 0 | S: 67000 | D: 0.0 s | R: 0.0000 | BR: 0.9969 | A_LOSS: -165.1628 | CR_LOSS: 1210.7753 | CU_LOSS: 0.0552\n",
            "| \u001b[32meval\u001b[0m | S: 67000 | ER: 36.4000\n"
          ],
          "name": "stdout"
        },
        {
          "output_type": "stream",
          "text": [
            " 68%|██████▊   | 68001/100000 [3:12:33<6:41:23,  1.33it/s]"
          ],
          "name": "stderr"
        },
        {
          "output_type": "stream",
          "text": [
            "| \u001b[33mtrain\u001b[0m | E: 0 | S: 68000 | D: 0.0 s | R: 0.0000 | BR: 0.9969 | A_LOSS: -175.7510 | CR_LOSS: 1827.2265 | CU_LOSS: 0.0822\n",
            "| \u001b[32meval\u001b[0m | S: 68000 | ER: 55.4000\n"
          ],
          "name": "stdout"
        },
        {
          "output_type": "stream",
          "text": [
            " 69%|██████▉   | 69001/100000 [3:15:25<5:04:56,  1.69it/s]"
          ],
          "name": "stderr"
        },
        {
          "output_type": "stream",
          "text": [
            "| \u001b[33mtrain\u001b[0m | E: 0 | S: 69000 | D: 0.0 s | R: 0.0000 | BR: 1.0000 | A_LOSS: -180.3008 | CR_LOSS: 1496.3378 | CU_LOSS: 0.1006\n",
            "| \u001b[32meval\u001b[0m | S: 69000 | ER: 39.2000\n"
          ],
          "name": "stdout"
        },
        {
          "output_type": "stream",
          "text": [
            " 70%|███████   | 70001/100000 [3:18:17<4:29:10,  1.86it/s]"
          ],
          "name": "stderr"
        },
        {
          "output_type": "stream",
          "text": [
            "| \u001b[33mtrain\u001b[0m | E: 0 | S: 70000 | D: 0.0 s | R: 0.0000 | BR: 0.9969 | A_LOSS: -188.3737 | CR_LOSS: 1416.6751 | CU_LOSS: 0.1178\n",
            "| \u001b[32meval\u001b[0m | S: 70000 | ER: 34.7000\n"
          ],
          "name": "stdout"
        },
        {
          "output_type": "stream",
          "text": [
            " 71%|███████   | 71001/100000 [3:21:09<3:49:22,  2.11it/s]"
          ],
          "name": "stderr"
        },
        {
          "output_type": "stream",
          "text": [
            "| \u001b[33mtrain\u001b[0m | E: 0 | S: 71000 | D: 0.0 s | R: 0.0000 | BR: 0.9969 | A_LOSS: -173.1120 | CR_LOSS: 2231.2615 | CU_LOSS: 0.0640\n",
            "| \u001b[32meval\u001b[0m | S: 71000 | ER: 27.7000\n"
          ],
          "name": "stdout"
        },
        {
          "output_type": "stream",
          "text": [
            " 72%|███████▏  | 71505/100000 [3:22:35<1:22:19,  5.77it/s]"
          ],
          "name": "stderr"
        },
        {
          "output_type": "error",
          "ename": "AssertionError",
          "evalue": "ignored",
          "traceback": [
            "\u001b[0;31m---------------------------------------------------------------------------\u001b[0m",
            "\u001b[0;31mAssertionError\u001b[0m                            Traceback (most recent call last)",
            "\u001b[0;32m<ipython-input-9-cef1bf73e782>\u001b[0m in \u001b[0;36m<module>\u001b[0;34m()\u001b[0m\n\u001b[1;32m     75\u001b[0m         \u001b[0magent\u001b[0m\u001b[0;34m.\u001b[0m\u001b[0mupdate\u001b[0m\u001b[0;34m(\u001b[0m\u001b[0mreplay_buffer\u001b[0m\u001b[0;34m,\u001b[0m \u001b[0mL\u001b[0m\u001b[0;34m,\u001b[0m \u001b[0mstep\u001b[0m\u001b[0;34m)\u001b[0m\u001b[0;34m\u001b[0m\u001b[0;34m\u001b[0m\u001b[0m\n\u001b[1;32m     76\u001b[0m \u001b[0;34m\u001b[0m\u001b[0m\n\u001b[0;32m---> 77\u001b[0;31m     \u001b[0mnext_obs\u001b[0m\u001b[0;34m,\u001b[0m \u001b[0mreward\u001b[0m\u001b[0;34m,\u001b[0m \u001b[0mdone\u001b[0m\u001b[0;34m,\u001b[0m \u001b[0m_\u001b[0m \u001b[0;34m=\u001b[0m \u001b[0menv\u001b[0m\u001b[0;34m.\u001b[0m\u001b[0mstep\u001b[0m\u001b[0;34m(\u001b[0m\u001b[0maction\u001b[0m\u001b[0;34m)\u001b[0m\u001b[0;34m\u001b[0m\u001b[0;34m\u001b[0m\u001b[0m\n\u001b[0m\u001b[1;32m     78\u001b[0m \u001b[0;34m\u001b[0m\u001b[0m\n\u001b[1;32m     79\u001b[0m     \u001b[0;31m# allow infinit bootstrap\u001b[0m\u001b[0;34m\u001b[0m\u001b[0;34m\u001b[0m\u001b[0;34m\u001b[0m\u001b[0m\n",
            "\u001b[0;32m/content/curl-att/utils.py\u001b[0m in \u001b[0;36mstep\u001b[0;34m(self, action)\u001b[0m\n\u001b[1;32m    227\u001b[0m \u001b[0;34m\u001b[0m\u001b[0m\n\u001b[1;32m    228\u001b[0m     \u001b[0;32mdef\u001b[0m \u001b[0mstep\u001b[0m\u001b[0;34m(\u001b[0m\u001b[0mself\u001b[0m\u001b[0;34m,\u001b[0m \u001b[0maction\u001b[0m\u001b[0;34m)\u001b[0m\u001b[0;34m:\u001b[0m\u001b[0;34m\u001b[0m\u001b[0;34m\u001b[0m\u001b[0m\n\u001b[0;32m--> 229\u001b[0;31m         \u001b[0m_\u001b[0m\u001b[0;34m,\u001b[0m \u001b[0mreward\u001b[0m\u001b[0;34m,\u001b[0m \u001b[0mdone\u001b[0m\u001b[0;34m,\u001b[0m \u001b[0minfo\u001b[0m \u001b[0;34m=\u001b[0m \u001b[0mself\u001b[0m\u001b[0;34m.\u001b[0m\u001b[0menv\u001b[0m\u001b[0;34m.\u001b[0m\u001b[0mstep\u001b[0m\u001b[0;34m(\u001b[0m\u001b[0maction\u001b[0m\u001b[0;34m)\u001b[0m\u001b[0;34m\u001b[0m\u001b[0;34m\u001b[0m\u001b[0m\n\u001b[0m\u001b[1;32m    230\u001b[0m         \u001b[0mobs\u001b[0m \u001b[0;34m=\u001b[0m \u001b[0mself\u001b[0m\u001b[0;34m.\u001b[0m\u001b[0menv\u001b[0m\u001b[0;34m.\u001b[0m\u001b[0mrender\u001b[0m\u001b[0;34m(\u001b[0m\u001b[0;34m'rgb_array'\u001b[0m\u001b[0;34m)\u001b[0m\u001b[0;34m\u001b[0m\u001b[0;34m\u001b[0m\u001b[0m\n\u001b[1;32m    231\u001b[0m         \u001b[0mobs\u001b[0m \u001b[0;34m=\u001b[0m \u001b[0mobs\u001b[0m\u001b[0;34m[\u001b[0m\u001b[0;36m200\u001b[0m\u001b[0;34m:\u001b[0m\u001b[0;36m400\u001b[0m\u001b[0;34m,\u001b[0m \u001b[0;36m200\u001b[0m\u001b[0;34m:\u001b[0m\u001b[0;36m400\u001b[0m\u001b[0;34m,\u001b[0m \u001b[0;34m:\u001b[0m\u001b[0;34m]\u001b[0m\u001b[0;34m\u001b[0m\u001b[0;34m\u001b[0m\u001b[0m\n",
            "\u001b[0;32m/usr/local/lib/python3.6/dist-packages/gym/wrappers/time_limit.py\u001b[0m in \u001b[0;36mstep\u001b[0;34m(self, action)\u001b[0m\n\u001b[1;32m     14\u001b[0m     \u001b[0;32mdef\u001b[0m \u001b[0mstep\u001b[0m\u001b[0;34m(\u001b[0m\u001b[0mself\u001b[0m\u001b[0;34m,\u001b[0m \u001b[0maction\u001b[0m\u001b[0;34m)\u001b[0m\u001b[0;34m:\u001b[0m\u001b[0;34m\u001b[0m\u001b[0;34m\u001b[0m\u001b[0m\n\u001b[1;32m     15\u001b[0m         \u001b[0;32massert\u001b[0m \u001b[0mself\u001b[0m\u001b[0;34m.\u001b[0m\u001b[0m_elapsed_steps\u001b[0m \u001b[0;32mis\u001b[0m \u001b[0;32mnot\u001b[0m \u001b[0;32mNone\u001b[0m\u001b[0;34m,\u001b[0m \u001b[0;34m\"Cannot call env.step() before calling reset()\"\u001b[0m\u001b[0;34m\u001b[0m\u001b[0;34m\u001b[0m\u001b[0m\n\u001b[0;32m---> 16\u001b[0;31m         \u001b[0mobservation\u001b[0m\u001b[0;34m,\u001b[0m \u001b[0mreward\u001b[0m\u001b[0;34m,\u001b[0m \u001b[0mdone\u001b[0m\u001b[0;34m,\u001b[0m \u001b[0minfo\u001b[0m \u001b[0;34m=\u001b[0m \u001b[0mself\u001b[0m\u001b[0;34m.\u001b[0m\u001b[0menv\u001b[0m\u001b[0;34m.\u001b[0m\u001b[0mstep\u001b[0m\u001b[0;34m(\u001b[0m\u001b[0maction\u001b[0m\u001b[0;34m)\u001b[0m\u001b[0;34m\u001b[0m\u001b[0;34m\u001b[0m\u001b[0m\n\u001b[0m\u001b[1;32m     17\u001b[0m         \u001b[0mself\u001b[0m\u001b[0;34m.\u001b[0m\u001b[0m_elapsed_steps\u001b[0m \u001b[0;34m+=\u001b[0m \u001b[0;36m1\u001b[0m\u001b[0;34m\u001b[0m\u001b[0;34m\u001b[0m\u001b[0m\n\u001b[1;32m     18\u001b[0m         \u001b[0;32mif\u001b[0m \u001b[0mself\u001b[0m\u001b[0;34m.\u001b[0m\u001b[0m_elapsed_steps\u001b[0m \u001b[0;34m>=\u001b[0m \u001b[0mself\u001b[0m\u001b[0;34m.\u001b[0m\u001b[0m_max_episode_steps\u001b[0m\u001b[0;34m:\u001b[0m\u001b[0;34m\u001b[0m\u001b[0;34m\u001b[0m\u001b[0m\n",
            "\u001b[0;32m/usr/local/lib/python3.6/dist-packages/gym/envs/classic_control/cartpole.py\u001b[0m in \u001b[0;36mstep\u001b[0;34m(self, action)\u001b[0m\n\u001b[1;32m     90\u001b[0m \u001b[0;34m\u001b[0m\u001b[0m\n\u001b[1;32m     91\u001b[0m     \u001b[0;32mdef\u001b[0m \u001b[0mstep\u001b[0m\u001b[0;34m(\u001b[0m\u001b[0mself\u001b[0m\u001b[0;34m,\u001b[0m \u001b[0maction\u001b[0m\u001b[0;34m)\u001b[0m\u001b[0;34m:\u001b[0m\u001b[0;34m\u001b[0m\u001b[0;34m\u001b[0m\u001b[0m\n\u001b[0;32m---> 92\u001b[0;31m         \u001b[0;32massert\u001b[0m \u001b[0mself\u001b[0m\u001b[0;34m.\u001b[0m\u001b[0maction_space\u001b[0m\u001b[0;34m.\u001b[0m\u001b[0mcontains\u001b[0m\u001b[0;34m(\u001b[0m\u001b[0maction\u001b[0m\u001b[0;34m)\u001b[0m\u001b[0;34m,\u001b[0m \u001b[0;34m\"%r (%s) invalid\"\u001b[0m\u001b[0;34m%\u001b[0m\u001b[0;34m(\u001b[0m\u001b[0maction\u001b[0m\u001b[0;34m,\u001b[0m \u001b[0mtype\u001b[0m\u001b[0;34m(\u001b[0m\u001b[0maction\u001b[0m\u001b[0;34m)\u001b[0m\u001b[0;34m)\u001b[0m\u001b[0;34m\u001b[0m\u001b[0;34m\u001b[0m\u001b[0m\n\u001b[0m\u001b[1;32m     93\u001b[0m         \u001b[0mstate\u001b[0m \u001b[0;34m=\u001b[0m \u001b[0mself\u001b[0m\u001b[0;34m.\u001b[0m\u001b[0mstate\u001b[0m\u001b[0;34m\u001b[0m\u001b[0;34m\u001b[0m\u001b[0m\n\u001b[1;32m     94\u001b[0m         \u001b[0mx\u001b[0m\u001b[0;34m,\u001b[0m \u001b[0mx_dot\u001b[0m\u001b[0;34m,\u001b[0m \u001b[0mtheta\u001b[0m\u001b[0;34m,\u001b[0m \u001b[0mtheta_dot\u001b[0m \u001b[0;34m=\u001b[0m \u001b[0mstate\u001b[0m\u001b[0;34m\u001b[0m\u001b[0;34m\u001b[0m\u001b[0m\n",
            "\u001b[0;31mAssertionError\u001b[0m: -1 (<class 'int'>) invalid"
          ]
        }
      ]
    },
    {
      "cell_type": "code",
      "metadata": {
        "id": "lKljviVVrMqS",
        "colab_type": "code",
        "colab": {}
      },
      "source": [
        "import gym\n",
        "import numpy as np\n",
        "import matplotlib\n",
        "import matplotlib.pyplot as plt\n",
        "%matplotlib inline\n",
        "from IPython.display import HTML\n",
        "from gym import core, spaces\n",
        "from IPython import display as ipythondisplay"
      ],
      "execution_count": 0,
      "outputs": []
    },
    {
      "cell_type": "code",
      "metadata": {
        "id": "rOotnHX-wg4N",
        "colab_type": "code",
        "colab": {}
      },
      "source": [
        "shape = [3, 100, 100]\n",
        "observation_space = spaces.Box(\n",
        "      low=0, high=255, shape=shape, dtype=np.uint8)"
      ],
      "execution_count": 0,
      "outputs": []
    },
    {
      "cell_type": "code",
      "metadata": {
        "id": "TjJuK_LFrO4O",
        "colab_type": "code",
        "outputId": "714308fd-a24e-413d-9e5e-15957450e772",
        "colab": {
          "base_uri": "https://localhost:8080/",
          "height": 286
        }
      },
      "source": [
        "env = gym.make(id= 'CartPole-v0')\n",
        "env.reset()\n",
        "env.seed(42)\n",
        "#env.action_space.sample()\n",
        "image = env.render('rgb_array')\n",
        "plt.imshow(image)"
      ],
      "execution_count": 0,
      "outputs": [
        {
          "output_type": "execute_result",
          "data": {
            "text/plain": [
              "<matplotlib.image.AxesImage at 0x7f14eeea2be0>"
            ]
          },
          "metadata": {
            "tags": []
          },
          "execution_count": 17
        },
        {
          "output_type": "display_data",
          "data": {
            "image/png": "[encoded data removed]",
            "text/plain": [
              "<Figure size 432x288 with 1 Axes>"
            ]
          },
          "metadata": {
            "tags": [],
            "needs_background": "light"
          }
        }
      ]
    },
    {
      "cell_type": "code",
      "metadata": {
        "id": "SgRVZUbhc7D1",
        "colab_type": "code",
        "outputId": "716a5609-3774-4b24-c78b-07b6d634273c",
        "colab": {
          "base_uri": "https://localhost:8080/",
          "height": 34
        }
      },
      "source": [
        "image = np.transpose(image, (2, 0, 1))\n",
        "image.shape"
      ],
      "execution_count": 0,
      "outputs": [
        {
          "output_type": "execute_result",
          "data": {
            "text/plain": [
              "(3, 400, 600)"
            ]
          },
          "metadata": {
            "tags": []
          },
          "execution_count": 19
        }
      ]
    },
    {
      "cell_type": "code",
      "metadata": {
        "id": "nluJCJgZV0lJ",
        "colab_type": "code",
        "outputId": "a5e5c066-45eb-420a-d283-92943bec8580",
        "colab": {
          "base_uri": "https://localhost:8080/",
          "height": 34
        }
      },
      "source": [
        "env._max_episode_steps"
      ],
      "execution_count": 0,
      "outputs": [
        {
          "output_type": "execute_result",
          "data": {
            "text/plain": [
              "200"
            ]
          },
          "metadata": {
            "tags": []
          },
          "execution_count": 17
        }
      ]
    },
    {
      "cell_type": "code",
      "metadata": {
        "id": "gwlALyoXuZ-E",
        "colab_type": "code",
        "outputId": "af21b1ac-3bfe-4522-c277-8e1a880b3aae",
        "colab": {
          "base_uri": "https://localhost:8080/",
          "height": 286
        }
      },
      "source": [
        "action = env.action_space.sample()\n",
        "next_obs, reward, done, _ = env.step(action)\n",
        "image = env.render('rgb_array')\n",
        "plt.imshow(image)"
      ],
      "execution_count": 0,
      "outputs": [
        {
          "output_type": "execute_result",
          "data": {
            "text/plain": [
              "<matplotlib.image.AxesImage at 0x7ff3d3c8eda0>"
            ]
          },
          "metadata": {
            "tags": []
          },
          "execution_count": 11
        },
        {
          "output_type": "display_data",
          "data": {
            "image/png": "[encoded data removed]",
            "text/plain": [
              "<Figure size 432x288 with 1 Axes>"
            ]
          },
          "metadata": {
            "tags": [],
            "needs_background": "light"
          }
        }
      ]
    },
    {
      "cell_type": "code",
      "metadata": {
        "id": "3DvAlOp5voFR",
        "colab_type": "code",
        "outputId": "86e08e01-449c-4022-cd8d-58a06beb600b",
        "colab": {
          "base_uri": "https://localhost:8080/",
          "height": 34
        }
      },
      "source": [
        "image.shape"
      ],
      "execution_count": 0,
      "outputs": [
        {
          "output_type": "execute_result",
          "data": {
            "text/plain": [
              "(400, 600, 3)"
            ]
          },
          "metadata": {
            "tags": []
          },
          "execution_count": 12
        }
      ]
    },
    {
      "cell_type": "code",
      "metadata": {
        "id": "yQ0hz0R7uwco",
        "colab_type": "code",
        "outputId": "93581edc-357e-4948-a62d-ecee36aa9a79",
        "colab": {
          "base_uri": "https://localhost:8080/",
          "height": 34
        }
      },
      "source": [
        "next_obs, reward, done"
      ],
      "execution_count": 0,
      "outputs": [
        {
          "output_type": "execute_result",
          "data": {
            "text/plain": [
              "(array([ 0.03463297,  0.15856694, -0.04339823, -0.29095287]), 1.0, False)"
            ]
          },
          "metadata": {
            "tags": []
          },
          "execution_count": 7
        }
      ]
    }
  ]
}